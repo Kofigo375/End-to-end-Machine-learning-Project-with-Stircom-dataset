{
 "cells": [
  {
   "cell_type": "code",
   "execution_count": 1,
   "id": "1260fb29",
   "metadata": {},
   "outputs": [],
   "source": [
    "import numpy as np\n",
    "import pandas as pd\n",
    "import matplotlib.pyplot as plt\n",
    "import seaborn as sns\n",
    "%matplotlib inline"
   ]
  },
  {
   "cell_type": "code",
   "execution_count": 2,
   "id": "c4bf2437",
   "metadata": {},
   "outputs": [
    {
     "data": {
      "text/html": [
       "<div>\n",
       "<style scoped>\n",
       "    .dataframe tbody tr th:only-of-type {\n",
       "        vertical-align: middle;\n",
       "    }\n",
       "\n",
       "    .dataframe tbody tr th {\n",
       "        vertical-align: top;\n",
       "    }\n",
       "\n",
       "    .dataframe thead th {\n",
       "        text-align: right;\n",
       "    }\n",
       "</style>\n",
       "<table border=\"1\" class=\"dataframe\">\n",
       "  <thead>\n",
       "    <tr style=\"text-align: right;\">\n",
       "      <th></th>\n",
       "      <th>ID</th>\n",
       "      <th>town</th>\n",
       "      <th>country</th>\n",
       "      <th>age</th>\n",
       "      <th>job</th>\n",
       "      <th>married</th>\n",
       "      <th>education</th>\n",
       "      <th>arrears</th>\n",
       "      <th>current_balance</th>\n",
       "      <th>housing</th>\n",
       "      <th>has_tv_package</th>\n",
       "      <th>last_contact</th>\n",
       "      <th>conn_tr</th>\n",
       "      <th>last_contact_this_campaign_day</th>\n",
       "      <th>last_contact_this_campaign_month</th>\n",
       "      <th>this_campaign</th>\n",
       "      <th>days_since_last_contact_previous_campaign</th>\n",
       "      <th>contacted_during_previous_campaign</th>\n",
       "      <th>outcome_previous_campaign</th>\n",
       "      <th>new_contract_this_campaign</th>\n",
       "    </tr>\n",
       "  </thead>\n",
       "  <tbody>\n",
       "    <tr>\n",
       "      <th>0</th>\n",
       "      <td>32390233</td>\n",
       "      <td>Bristol</td>\n",
       "      <td>UK</td>\n",
       "      <td>39</td>\n",
       "      <td>management</td>\n",
       "      <td>married</td>\n",
       "      <td>tertiary</td>\n",
       "      <td>no</td>\n",
       "      <td>-1.90</td>\n",
       "      <td>no</td>\n",
       "      <td>yes</td>\n",
       "      <td>unknown</td>\n",
       "      <td>4</td>\n",
       "      <td>11</td>\n",
       "      <td>jun</td>\n",
       "      <td>8</td>\n",
       "      <td>-1</td>\n",
       "      <td>0</td>\n",
       "      <td>unknown</td>\n",
       "      <td>yes</td>\n",
       "    </tr>\n",
       "    <tr>\n",
       "      <th>1</th>\n",
       "      <td>41226029</td>\n",
       "      <td>Basildon</td>\n",
       "      <td>UK</td>\n",
       "      <td>53</td>\n",
       "      <td>housemaid</td>\n",
       "      <td>married</td>\n",
       "      <td>primary</td>\n",
       "      <td>no</td>\n",
       "      <td>3.62</td>\n",
       "      <td>no</td>\n",
       "      <td>no</td>\n",
       "      <td>cellular</td>\n",
       "      <td>1</td>\n",
       "      <td>28</td>\n",
       "      <td>jul</td>\n",
       "      <td>2</td>\n",
       "      <td>-1</td>\n",
       "      <td>0</td>\n",
       "      <td>unknown</td>\n",
       "      <td>yes</td>\n",
       "    </tr>\n",
       "    <tr>\n",
       "      <th>2</th>\n",
       "      <td>85498057</td>\n",
       "      <td>Blackburn</td>\n",
       "      <td>UK</td>\n",
       "      <td>79</td>\n",
       "      <td>retired</td>\n",
       "      <td>divorced</td>\n",
       "      <td>primary</td>\n",
       "      <td>no</td>\n",
       "      <td>27.87</td>\n",
       "      <td>no</td>\n",
       "      <td>no</td>\n",
       "      <td>telephone</td>\n",
       "      <td>3</td>\n",
       "      <td>13</td>\n",
       "      <td>jul</td>\n",
       "      <td>1</td>\n",
       "      <td>377</td>\n",
       "      <td>1</td>\n",
       "      <td>success</td>\n",
       "      <td>yes</td>\n",
       "    </tr>\n",
       "    <tr>\n",
       "      <th>3</th>\n",
       "      <td>76539627</td>\n",
       "      <td>Oldham</td>\n",
       "      <td>UK</td>\n",
       "      <td>43</td>\n",
       "      <td>services</td>\n",
       "      <td>single</td>\n",
       "      <td>secondary</td>\n",
       "      <td>no</td>\n",
       "      <td>5.50</td>\n",
       "      <td>yes</td>\n",
       "      <td>no</td>\n",
       "      <td>cellular</td>\n",
       "      <td>3</td>\n",
       "      <td>13</td>\n",
       "      <td>may</td>\n",
       "      <td>2</td>\n",
       "      <td>-1</td>\n",
       "      <td>0</td>\n",
       "      <td>unknown</td>\n",
       "      <td>no</td>\n",
       "    </tr>\n",
       "    <tr>\n",
       "      <th>4</th>\n",
       "      <td>76290986</td>\n",
       "      <td>Middlesbrough</td>\n",
       "      <td>UK</td>\n",
       "      <td>35</td>\n",
       "      <td>technician</td>\n",
       "      <td>single</td>\n",
       "      <td>secondary</td>\n",
       "      <td>no</td>\n",
       "      <td>3.44</td>\n",
       "      <td>no</td>\n",
       "      <td>no</td>\n",
       "      <td>cellular</td>\n",
       "      <td>2</td>\n",
       "      <td>27</td>\n",
       "      <td>aug</td>\n",
       "      <td>16</td>\n",
       "      <td>-1</td>\n",
       "      <td>0</td>\n",
       "      <td>unknown</td>\n",
       "      <td>yes</td>\n",
       "    </tr>\n",
       "  </tbody>\n",
       "</table>\n",
       "</div>"
      ],
      "text/plain": [
       "         ID           town country  age         job   married  education  \\\n",
       "0  32390233        Bristol      UK   39  management   married   tertiary   \n",
       "1  41226029       Basildon      UK   53   housemaid   married    primary   \n",
       "2  85498057      Blackburn      UK   79     retired  divorced    primary   \n",
       "3  76539627         Oldham      UK   43    services    single  secondary   \n",
       "4  76290986  Middlesbrough      UK   35  technician    single  secondary   \n",
       "\n",
       "  arrears  current_balance housing has_tv_package last_contact  conn_tr  \\\n",
       "0      no            -1.90      no            yes      unknown        4   \n",
       "1      no             3.62      no             no     cellular        1   \n",
       "2      no            27.87      no             no    telephone        3   \n",
       "3      no             5.50     yes             no     cellular        3   \n",
       "4      no             3.44      no             no     cellular        2   \n",
       "\n",
       "   last_contact_this_campaign_day last_contact_this_campaign_month  \\\n",
       "0                              11                              jun   \n",
       "1                              28                              jul   \n",
       "2                              13                              jul   \n",
       "3                              13                              may   \n",
       "4                              27                              aug   \n",
       "\n",
       "   this_campaign  days_since_last_contact_previous_campaign  \\\n",
       "0              8                                         -1   \n",
       "1              2                                         -1   \n",
       "2              1                                        377   \n",
       "3              2                                         -1   \n",
       "4             16                                         -1   \n",
       "\n",
       "   contacted_during_previous_campaign outcome_previous_campaign  \\\n",
       "0                                   0                   unknown   \n",
       "1                                   0                   unknown   \n",
       "2                                   1                   success   \n",
       "3                                   0                   unknown   \n",
       "4                                   0                   unknown   \n",
       "\n",
       "  new_contract_this_campaign  \n",
       "0                        yes  \n",
       "1                        yes  \n",
       "2                        yes  \n",
       "3                         no  \n",
       "4                        yes  "
      ]
     },
     "execution_count": 2,
     "metadata": {},
     "output_type": "execute_result"
    }
   ],
   "source": [
    "df = pd.read_csv('stircom.csv')\n",
    "df.head(5)  "
   ]
  },
  {
   "cell_type": "code",
   "execution_count": 3,
   "id": "cfb13ee4",
   "metadata": {},
   "outputs": [
    {
     "name": "stdout",
     "output_type": "stream",
     "text": [
      "<class 'pandas.core.frame.DataFrame'>\n",
      "RangeIndex: 50662 entries, 0 to 50661\n",
      "Data columns (total 20 columns):\n",
      " #   Column                                     Non-Null Count  Dtype  \n",
      "---  ------                                     --------------  -----  \n",
      " 0   ID                                         50662 non-null  int64  \n",
      " 1   town                                       50662 non-null  object \n",
      " 2   country                                    50662 non-null  object \n",
      " 3   age                                        50662 non-null  int64  \n",
      " 4   job                                        50662 non-null  object \n",
      " 5   married                                    50662 non-null  object \n",
      " 6   education                                  50662 non-null  object \n",
      " 7   arrears                                    50662 non-null  object \n",
      " 8   current_balance                            50662 non-null  float64\n",
      " 9   housing                                    50662 non-null  object \n",
      " 10  has_tv_package                             50662 non-null  object \n",
      " 11  last_contact                               50662 non-null  object \n",
      " 12  conn_tr                                    50662 non-null  int64  \n",
      " 13  last_contact_this_campaign_day             50662 non-null  int64  \n",
      " 14  last_contact_this_campaign_month           50662 non-null  object \n",
      " 15  this_campaign                              50662 non-null  int64  \n",
      " 16  days_since_last_contact_previous_campaign  50662 non-null  int64  \n",
      " 17  contacted_during_previous_campaign         50662 non-null  int64  \n",
      " 18  outcome_previous_campaign                  50662 non-null  object \n",
      " 19  new_contract_this_campaign                 50662 non-null  object \n",
      "dtypes: float64(1), int64(7), object(12)\n",
      "memory usage: 7.7+ MB\n"
     ]
    }
   ],
   "source": [
    "df.info()  # checking the various columns and their respective datatype"
   ]
  },
  {
   "cell_type": "code",
   "execution_count": 4,
   "id": "9f729ea7",
   "metadata": {},
   "outputs": [
    {
     "data": {
      "text/plain": [
       "(50662, 20)"
      ]
     },
     "execution_count": 4,
     "metadata": {},
     "output_type": "execute_result"
    }
   ],
   "source": [
    "df.shape # checking the number of training examples and features (training instances, features)"
   ]
  },
  {
   "cell_type": "markdown",
   "id": "b3e510cf",
   "metadata": {},
   "source": [
    "## Goal : explore numerical values "
   ]
  },
  {
   "cell_type": "code",
   "execution_count": 5,
   "id": "e570c95f",
   "metadata": {},
   "outputs": [
    {
     "data": {
      "text/html": [
       "<div>\n",
       "<style scoped>\n",
       "    .dataframe tbody tr th:only-of-type {\n",
       "        vertical-align: middle;\n",
       "    }\n",
       "\n",
       "    .dataframe tbody tr th {\n",
       "        vertical-align: top;\n",
       "    }\n",
       "\n",
       "    .dataframe thead th {\n",
       "        text-align: right;\n",
       "    }\n",
       "</style>\n",
       "<table border=\"1\" class=\"dataframe\">\n",
       "  <thead>\n",
       "    <tr style=\"text-align: right;\">\n",
       "      <th></th>\n",
       "      <th>ID</th>\n",
       "      <th>age</th>\n",
       "      <th>current_balance</th>\n",
       "      <th>conn_tr</th>\n",
       "      <th>last_contact_this_campaign_day</th>\n",
       "      <th>this_campaign</th>\n",
       "      <th>days_since_last_contact_previous_campaign</th>\n",
       "      <th>contacted_during_previous_campaign</th>\n",
       "    </tr>\n",
       "  </thead>\n",
       "  <tbody>\n",
       "    <tr>\n",
       "      <th>count</th>\n",
       "      <td>5.066200e+04</td>\n",
       "      <td>50662.000000</td>\n",
       "      <td>50662.000000</td>\n",
       "      <td>50662.000000</td>\n",
       "      <td>50662.000000</td>\n",
       "      <td>50662.000000</td>\n",
       "      <td>50662.000000</td>\n",
       "      <td>50662.000000</td>\n",
       "    </tr>\n",
       "    <tr>\n",
       "      <th>mean</th>\n",
       "      <td>5.502871e+07</td>\n",
       "      <td>40.979373</td>\n",
       "      <td>13.991210</td>\n",
       "      <td>3.005093</td>\n",
       "      <td>15.768525</td>\n",
       "      <td>2.713217</td>\n",
       "      <td>42.644408</td>\n",
       "      <td>0.640283</td>\n",
       "    </tr>\n",
       "    <tr>\n",
       "      <th>std</th>\n",
       "      <td>2.598596e+07</td>\n",
       "      <td>10.919324</td>\n",
       "      <td>30.899163</td>\n",
       "      <td>1.409003</td>\n",
       "      <td>8.347083</td>\n",
       "      <td>3.052227</td>\n",
       "      <td>102.238078</td>\n",
       "      <td>2.358029</td>\n",
       "    </tr>\n",
       "    <tr>\n",
       "      <th>min</th>\n",
       "      <td>1.000073e+07</td>\n",
       "      <td>18.000000</td>\n",
       "      <td>-80.190000</td>\n",
       "      <td>1.000000</td>\n",
       "      <td>1.000000</td>\n",
       "      <td>1.000000</td>\n",
       "      <td>-1.000000</td>\n",
       "      <td>0.000000</td>\n",
       "    </tr>\n",
       "    <tr>\n",
       "      <th>25%</th>\n",
       "      <td>3.249964e+07</td>\n",
       "      <td>32.000000</td>\n",
       "      <td>0.820000</td>\n",
       "      <td>2.000000</td>\n",
       "      <td>8.000000</td>\n",
       "      <td>1.000000</td>\n",
       "      <td>-1.000000</td>\n",
       "      <td>0.000000</td>\n",
       "    </tr>\n",
       "    <tr>\n",
       "      <th>50%</th>\n",
       "      <td>5.501127e+07</td>\n",
       "      <td>39.000000</td>\n",
       "      <td>4.720000</td>\n",
       "      <td>3.000000</td>\n",
       "      <td>16.000000</td>\n",
       "      <td>2.000000</td>\n",
       "      <td>-1.000000</td>\n",
       "      <td>0.000000</td>\n",
       "    </tr>\n",
       "    <tr>\n",
       "      <th>75%</th>\n",
       "      <td>7.748809e+07</td>\n",
       "      <td>48.000000</td>\n",
       "      <td>14.950000</td>\n",
       "      <td>4.000000</td>\n",
       "      <td>21.000000</td>\n",
       "      <td>3.000000</td>\n",
       "      <td>-1.000000</td>\n",
       "      <td>0.000000</td>\n",
       "    </tr>\n",
       "    <tr>\n",
       "      <th>max</th>\n",
       "      <td>9.999952e+07</td>\n",
       "      <td>95.000000</td>\n",
       "      <td>984.170000</td>\n",
       "      <td>5.000000</td>\n",
       "      <td>31.000000</td>\n",
       "      <td>63.000000</td>\n",
       "      <td>871.000000</td>\n",
       "      <td>275.000000</td>\n",
       "    </tr>\n",
       "  </tbody>\n",
       "</table>\n",
       "</div>"
      ],
      "text/plain": [
       "                 ID           age  current_balance       conn_tr  \\\n",
       "count  5.066200e+04  50662.000000     50662.000000  50662.000000   \n",
       "mean   5.502871e+07     40.979373        13.991210      3.005093   \n",
       "std    2.598596e+07     10.919324        30.899163      1.409003   \n",
       "min    1.000073e+07     18.000000       -80.190000      1.000000   \n",
       "25%    3.249964e+07     32.000000         0.820000      2.000000   \n",
       "50%    5.501127e+07     39.000000         4.720000      3.000000   \n",
       "75%    7.748809e+07     48.000000        14.950000      4.000000   \n",
       "max    9.999952e+07     95.000000       984.170000      5.000000   \n",
       "\n",
       "       last_contact_this_campaign_day  this_campaign  \\\n",
       "count                    50662.000000   50662.000000   \n",
       "mean                        15.768525       2.713217   \n",
       "std                          8.347083       3.052227   \n",
       "min                          1.000000       1.000000   \n",
       "25%                          8.000000       1.000000   \n",
       "50%                         16.000000       2.000000   \n",
       "75%                         21.000000       3.000000   \n",
       "max                         31.000000      63.000000   \n",
       "\n",
       "       days_since_last_contact_previous_campaign  \\\n",
       "count                               50662.000000   \n",
       "mean                                   42.644408   \n",
       "std                                   102.238078   \n",
       "min                                    -1.000000   \n",
       "25%                                    -1.000000   \n",
       "50%                                    -1.000000   \n",
       "75%                                    -1.000000   \n",
       "max                                   871.000000   \n",
       "\n",
       "       contacted_during_previous_campaign  \n",
       "count                        50662.000000  \n",
       "mean                             0.640283  \n",
       "std                              2.358029  \n",
       "min                              0.000000  \n",
       "25%                              0.000000  \n",
       "50%                              0.000000  \n",
       "75%                              0.000000  \n",
       "max                            275.000000  "
      ]
     },
     "execution_count": 5,
     "metadata": {},
     "output_type": "execute_result"
    }
   ],
   "source": [
    "df.describe()"
   ]
  },
  {
   "cell_type": "code",
   "execution_count": 6,
   "id": "57590555",
   "metadata": {
    "scrolled": true
   },
   "outputs": [
    {
     "data": {
      "text/plain": [
       "ID                                           0\n",
       "town                                         0\n",
       "country                                      0\n",
       "age                                          0\n",
       "job                                          0\n",
       "married                                      0\n",
       "education                                    0\n",
       "arrears                                      0\n",
       "current_balance                              0\n",
       "housing                                      0\n",
       "has_tv_package                               0\n",
       "last_contact                                 0\n",
       "conn_tr                                      0\n",
       "last_contact_this_campaign_day               0\n",
       "last_contact_this_campaign_month             0\n",
       "this_campaign                                0\n",
       "days_since_last_contact_previous_campaign    0\n",
       "contacted_during_previous_campaign           0\n",
       "outcome_previous_campaign                    0\n",
       "new_contract_this_campaign                   0\n",
       "dtype: int64"
      ]
     },
     "execution_count": 6,
     "metadata": {},
     "output_type": "execute_result"
    }
   ],
   "source": [
    "df.isnull().sum()  # checking the number of missing values with respect to each feature"
   ]
  },
  {
   "cell_type": "code",
   "execution_count": 7,
   "id": "5846f116",
   "metadata": {},
   "outputs": [
    {
     "data": {
      "text/plain": [
       "[]"
      ]
     },
     "execution_count": 7,
     "metadata": {},
     "output_type": "execute_result"
    }
   ],
   "source": [
    "[features for features in df.columns if df[features].isnull().sum() > 0]"
   ]
  },
  {
   "cell_type": "markdown",
   "id": "2a2dc2d3",
   "metadata": {},
   "source": [
    "## This verifies that there are no missing values in any of the features"
   ]
  },
  {
   "cell_type": "code",
   "execution_count": 8,
   "id": "1d3feff7",
   "metadata": {},
   "outputs": [
    {
     "data": {
      "text/plain": [
       "0"
      ]
     },
     "execution_count": 8,
     "metadata": {},
     "output_type": "execute_result"
    }
   ],
   "source": [
    "# cheching if there are any duplicates\n",
    "df.duplicated().sum()"
   ]
  },
  {
   "cell_type": "code",
   "execution_count": 9,
   "id": "3828b58a",
   "metadata": {},
   "outputs": [
    {
     "data": {
      "text/plain": [
       "London             3241\n",
       "Birmingham         2383\n",
       "Glasgow            1991\n",
       "Bristol            1693\n",
       "Liverpool          1591\n",
       "                   ... \n",
       "Southend-on-Sea     375\n",
       "Blackburn           373\n",
       "Southport           372\n",
       "Bedford             367\n",
       "Stevenage           360\n",
       "Name: town, Length: 101, dtype: int64"
      ]
     },
     "execution_count": 9,
     "metadata": {},
     "output_type": "execute_result"
    }
   ],
   "source": [
    "# checking the number of towns there are and how they are being represented\n",
    "df.town.value_counts()"
   ]
  },
  {
   "cell_type": "code",
   "execution_count": 10,
   "id": "7ebf68cc",
   "metadata": {},
   "outputs": [],
   "source": [
    "# we can store the town names of townns and the number of customers in there in variables \n",
    "town_names = df.town.value_counts().index\n",
    "town_values = df.town.value_counts().values"
   ]
  },
  {
   "cell_type": "code",
   "execution_count": 11,
   "id": "6554c51b",
   "metadata": {
    "scrolled": true
   },
   "outputs": [
    {
     "data": {
      "text/plain": [
       "([<matplotlib.patches.Wedge at 0x15c37ea0730>,\n",
       "  <matplotlib.patches.Wedge at 0x15c37ea0e50>,\n",
       "  <matplotlib.patches.Wedge at 0x15c37eba5b0>,\n",
       "  <matplotlib.patches.Wedge at 0x15c37ebacd0>,\n",
       "  <matplotlib.patches.Wedge at 0x15c38187430>,\n",
       "  <matplotlib.patches.Wedge at 0x15c38187b50>],\n",
       " [Text(0.7354371867355677, 0.8180049782039678, 'London'),\n",
       "  Text(-0.7275732644087305, 0.8250073605233008, 'Birmingham'),\n",
       "  Text(-1.0560741915863237, -0.30774551477689027, 'Glasgow'),\n",
       "  Text(-0.3607443605515457, -1.0391648119188104, 'Bristol'),\n",
       "  Text(0.5422596529413632, -0.9570551022756801, 'Liverpool'),\n",
       "  Text(1.0435194473030174, -0.3479470693947653, 'Manchester')],\n",
       " [Text(0.40114755640121874, 0.44618453356580057, '26.69%'),\n",
       "  Text(-0.3968581442229439, 0.4500040148308913, '19.62%'),\n",
       "  Text(-0.5760404681379947, -0.16786118987830378, '16.40%'),\n",
       "  Text(-0.19676965120993398, -0.5668171701375329, '13.94%'),\n",
       "  Text(0.29577799251347087, -0.5220300557867346, '13.10%'),\n",
       "  Text(0.5691924258016458, -0.18978931057896284, '10.24%')])"
      ]
     },
     "execution_count": 11,
     "metadata": {},
     "output_type": "execute_result"
    },
    {
     "data": {
      "image/png": "[encoded data removed]",
      "text/plain": [
       "<Figure size 640x480 with 1 Axes>"
      ]
     },
     "metadata": {},
     "output_type": "display_data"
    }
   ],
   "source": [
    "# we can use a piechart to visualize the top 6 towns with many customers\n",
    "plt.pie(town_values[:6], labels=town_names[:6], autopct='%1.2f%%')"
   ]
  },
  {
   "cell_type": "markdown",
   "id": "70191e6d",
   "metadata": {},
   "source": [
    "## It can be observed that among the top six towns with many customers London has the large number of customers."
   ]
  },
  {
   "cell_type": "markdown",
   "id": "dc27361f",
   "metadata": {},
   "source": [
    "# Pandas profiling"
   ]
  },
  {
   "cell_type": "code",
   "execution_count": 19,
   "id": "66ed9ff5",
   "metadata": {},
   "outputs": [],
   "source": [
    "from ydata_profiling import ProfileReport"
   ]
  },
  {
   "cell_type": "code",
   "execution_count": 20,
   "id": "7e45f691",
   "metadata": {},
   "outputs": [
    {
     "data": {
      "application/vnd.jupyter.widget-view+json": {
       "model_id": "792a4e24e589486d936a811ce33f319d",
       "version_major": 2,
       "version_minor": 0
      },
      "text/plain": [
       "Summarize dataset:   0%|          | 0/5 [00:00<?, ?it/s]"
      ]
     },
     "metadata": {},
     "output_type": "display_data"
    },
    {
     "data": {
      "application/vnd.jupyter.widget-view+json": {
       "model_id": "d1cc51805dcd470bad193431dfb75eec",
       "version_major": 2,
       "version_minor": 0
      },
      "text/plain": [
       "Generate report structure:   0%|          | 0/1 [00:00<?, ?it/s]"
      ]
     },
     "metadata": {},
     "output_type": "display_data"
    },
    {
     "data": {
      "application/vnd.jupyter.widget-view+json": {
       "model_id": "5f63b324ef0d4fa08d379389b1c9224f",
       "version_major": 2,
       "version_minor": 0
      },
      "text/plain": [
       "Render HTML:   0%|          | 0/1 [00:00<?, ?it/s]"
      ]
     },
     "metadata": {},
     "output_type": "display_data"
    },
    {
     "data": {
      "application/vnd.jupyter.widget-view+json": {
       "model_id": "7b27514f90984dcbbb32d504733bf6bf",
       "version_major": 2,
       "version_minor": 0
      },
      "text/plain": [
       "Export report to file:   0%|          | 0/1 [00:00<?, ?it/s]"
      ]
     },
     "metadata": {},
     "output_type": "display_data"
    }
   ],
   "source": [
    "p_report = ProfileReport(df, title='Profile Report')\n",
    "p_report.to_file('report.html')"
   ]
  },
  {
   "cell_type": "code",
   "execution_count": null,
   "id": "20e3c5a2",
   "metadata": {},
   "outputs": [],
   "source": []
  }
 ],
 "metadata": {
  "kernelspec": {
   "display_name": "Python 3 (ipykernel)",
   "language": "python",
   "name": "python3"
  },
  "language_info": {
   "codemirror_mode": {
    "name": "ipython",
    "version": 3
   },
   "file_extension": ".py",
   "mimetype": "text/x-python",
   "name": "python",
   "nbconvert_exporter": "python",
   "pygments_lexer": "ipython3",
   "version": "3.9.13"
  }
 },
 "nbformat": 4,
 "nbformat_minor": 5
}
