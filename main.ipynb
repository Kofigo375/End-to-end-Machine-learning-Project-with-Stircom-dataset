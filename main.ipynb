{
 "cells": [
  {
   "cell_type": "code",
   "execution_count": 47,
   "id": "1260fb29",
   "metadata": {},
   "outputs": [],
   "source": [
    "import numpy as np\n",
    "import pandas as pd\n",
    "import matplotlib.pyplot as plt\n",
    "import seaborn as sns\n",
    "%matplotlib inline\n",
    "from sklearn.preprocessing import LabelEncoder, StandardScaler\n",
    "from sklearn.model_selection import train_test_split\n",
    "from sklearn.linear_model import LogisticRegression\n",
    "from sklearn.ensemble import RandomForestClassifier\n",
    "from sklearn import metrics\n",
    "from sklearn.metrics import confusion_matrix\n",
    "from sklearn.metrics import classification_report, accuracy_score\n",
    "import warnings\n",
    "warnings.filterwarnings('ignore')"
   ]
  },
  {
   "cell_type": "code",
   "execution_count": 2,
   "id": "c4bf2437",
   "metadata": {},
   "outputs": [
    {
     "data": {
      "text/html": [
       "<div>\n",
       "<style scoped>\n",
       "    .dataframe tbody tr th:only-of-type {\n",
       "        vertical-align: middle;\n",
       "    }\n",
       "\n",
       "    .dataframe tbody tr th {\n",
       "        vertical-align: top;\n",
       "    }\n",
       "\n",
       "    .dataframe thead th {\n",
       "        text-align: right;\n",
       "    }\n",
       "</style>\n",
       "<table border=\"1\" class=\"dataframe\">\n",
       "  <thead>\n",
       "    <tr style=\"text-align: right;\">\n",
       "      <th></th>\n",
       "      <th>ID</th>\n",
       "      <th>town</th>\n",
       "      <th>country</th>\n",
       "      <th>age</th>\n",
       "      <th>job</th>\n",
       "      <th>married</th>\n",
       "      <th>education</th>\n",
       "      <th>arrears</th>\n",
       "      <th>current_balance</th>\n",
       "      <th>housing</th>\n",
       "      <th>has_tv_package</th>\n",
       "      <th>last_contact</th>\n",
       "      <th>conn_tr</th>\n",
       "      <th>last_contact_this_campaign_day</th>\n",
       "      <th>last_contact_this_campaign_month</th>\n",
       "      <th>this_campaign</th>\n",
       "      <th>days_since_last_contact_previous_campaign</th>\n",
       "      <th>contacted_during_previous_campaign</th>\n",
       "      <th>outcome_previous_campaign</th>\n",
       "      <th>new_contract_this_campaign</th>\n",
       "    </tr>\n",
       "  </thead>\n",
       "  <tbody>\n",
       "    <tr>\n",
       "      <th>0</th>\n",
       "      <td>32390233</td>\n",
       "      <td>Bristol</td>\n",
       "      <td>UK</td>\n",
       "      <td>39</td>\n",
       "      <td>management</td>\n",
       "      <td>married</td>\n",
       "      <td>tertiary</td>\n",
       "      <td>no</td>\n",
       "      <td>-1.90</td>\n",
       "      <td>no</td>\n",
       "      <td>yes</td>\n",
       "      <td>unknown</td>\n",
       "      <td>4</td>\n",
       "      <td>11</td>\n",
       "      <td>jun</td>\n",
       "      <td>8</td>\n",
       "      <td>-1</td>\n",
       "      <td>0</td>\n",
       "      <td>unknown</td>\n",
       "      <td>yes</td>\n",
       "    </tr>\n",
       "    <tr>\n",
       "      <th>1</th>\n",
       "      <td>41226029</td>\n",
       "      <td>Basildon</td>\n",
       "      <td>UK</td>\n",
       "      <td>53</td>\n",
       "      <td>housemaid</td>\n",
       "      <td>married</td>\n",
       "      <td>primary</td>\n",
       "      <td>no</td>\n",
       "      <td>3.62</td>\n",
       "      <td>no</td>\n",
       "      <td>no</td>\n",
       "      <td>cellular</td>\n",
       "      <td>1</td>\n",
       "      <td>28</td>\n",
       "      <td>jul</td>\n",
       "      <td>2</td>\n",
       "      <td>-1</td>\n",
       "      <td>0</td>\n",
       "      <td>unknown</td>\n",
       "      <td>yes</td>\n",
       "    </tr>\n",
       "    <tr>\n",
       "      <th>2</th>\n",
       "      <td>85498057</td>\n",
       "      <td>Blackburn</td>\n",
       "      <td>UK</td>\n",
       "      <td>79</td>\n",
       "      <td>retired</td>\n",
       "      <td>divorced</td>\n",
       "      <td>primary</td>\n",
       "      <td>no</td>\n",
       "      <td>27.87</td>\n",
       "      <td>no</td>\n",
       "      <td>no</td>\n",
       "      <td>telephone</td>\n",
       "      <td>3</td>\n",
       "      <td>13</td>\n",
       "      <td>jul</td>\n",
       "      <td>1</td>\n",
       "      <td>377</td>\n",
       "      <td>1</td>\n",
       "      <td>success</td>\n",
       "      <td>yes</td>\n",
       "    </tr>\n",
       "    <tr>\n",
       "      <th>3</th>\n",
       "      <td>76539627</td>\n",
       "      <td>Oldham</td>\n",
       "      <td>UK</td>\n",
       "      <td>43</td>\n",
       "      <td>services</td>\n",
       "      <td>single</td>\n",
       "      <td>secondary</td>\n",
       "      <td>no</td>\n",
       "      <td>5.50</td>\n",
       "      <td>yes</td>\n",
       "      <td>no</td>\n",
       "      <td>cellular</td>\n",
       "      <td>3</td>\n",
       "      <td>13</td>\n",
       "      <td>may</td>\n",
       "      <td>2</td>\n",
       "      <td>-1</td>\n",
       "      <td>0</td>\n",
       "      <td>unknown</td>\n",
       "      <td>no</td>\n",
       "    </tr>\n",
       "    <tr>\n",
       "      <th>4</th>\n",
       "      <td>76290986</td>\n",
       "      <td>Middlesbrough</td>\n",
       "      <td>UK</td>\n",
       "      <td>35</td>\n",
       "      <td>technician</td>\n",
       "      <td>single</td>\n",
       "      <td>secondary</td>\n",
       "      <td>no</td>\n",
       "      <td>3.44</td>\n",
       "      <td>no</td>\n",
       "      <td>no</td>\n",
       "      <td>cellular</td>\n",
       "      <td>2</td>\n",
       "      <td>27</td>\n",
       "      <td>aug</td>\n",
       "      <td>16</td>\n",
       "      <td>-1</td>\n",
       "      <td>0</td>\n",
       "      <td>unknown</td>\n",
       "      <td>yes</td>\n",
       "    </tr>\n",
       "  </tbody>\n",
       "</table>\n",
       "</div>"
      ],
      "text/plain": [
       "         ID           town country  age         job   married  education  \\\n",
       "0  32390233        Bristol      UK   39  management   married   tertiary   \n",
       "1  41226029       Basildon      UK   53   housemaid   married    primary   \n",
       "2  85498057      Blackburn      UK   79     retired  divorced    primary   \n",
       "3  76539627         Oldham      UK   43    services    single  secondary   \n",
       "4  76290986  Middlesbrough      UK   35  technician    single  secondary   \n",
       "\n",
       "  arrears  current_balance housing has_tv_package last_contact  conn_tr  \\\n",
       "0      no            -1.90      no            yes      unknown        4   \n",
       "1      no             3.62      no             no     cellular        1   \n",
       "2      no            27.87      no             no    telephone        3   \n",
       "3      no             5.50     yes             no     cellular        3   \n",
       "4      no             3.44      no             no     cellular        2   \n",
       "\n",
       "   last_contact_this_campaign_day last_contact_this_campaign_month  \\\n",
       "0                              11                              jun   \n",
       "1                              28                              jul   \n",
       "2                              13                              jul   \n",
       "3                              13                              may   \n",
       "4                              27                              aug   \n",
       "\n",
       "   this_campaign  days_since_last_contact_previous_campaign  \\\n",
       "0              8                                         -1   \n",
       "1              2                                         -1   \n",
       "2              1                                        377   \n",
       "3              2                                         -1   \n",
       "4             16                                         -1   \n",
       "\n",
       "   contacted_during_previous_campaign outcome_previous_campaign  \\\n",
       "0                                   0                   unknown   \n",
       "1                                   0                   unknown   \n",
       "2                                   1                   success   \n",
       "3                                   0                   unknown   \n",
       "4                                   0                   unknown   \n",
       "\n",
       "  new_contract_this_campaign  \n",
       "0                        yes  \n",
       "1                        yes  \n",
       "2                        yes  \n",
       "3                         no  \n",
       "4                        yes  "
      ]
     },
     "execution_count": 2,
     "metadata": {},
     "output_type": "execute_result"
    }
   ],
   "source": [
    "df = pd.read_csv('stircom.csv')\n",
    "df.head(5)  "
   ]
  },
  {
   "cell_type": "code",
   "execution_count": 3,
   "id": "f3500338",
   "metadata": {},
   "outputs": [
    {
     "data": {
      "text/plain": [
       "Index(['ID', 'town', 'country', 'age', 'job', 'married', 'education',\n",
       "       'arrears', 'current_balance', 'housing', 'has_tv_package',\n",
       "       'last_contact', 'conn_tr', 'last_contact_this_campaign_day',\n",
       "       'last_contact_this_campaign_month', 'this_campaign',\n",
       "       'days_since_last_contact_previous_campaign',\n",
       "       'contacted_during_previous_campaign', 'outcome_previous_campaign',\n",
       "       'new_contract_this_campaign'],\n",
       "      dtype='object')"
      ]
     },
     "execution_count": 3,
     "metadata": {},
     "output_type": "execute_result"
    }
   ],
   "source": [
    "df.dtypes.index"
   ]
  },
  {
   "cell_type": "code",
   "execution_count": 4,
   "id": "59f5df7d",
   "metadata": {},
   "outputs": [
    {
     "data": {
      "text/plain": [
       "ID                                             int64\n",
       "town                                          object\n",
       "country                                       object\n",
       "age                                            int64\n",
       "job                                           object\n",
       "married                                       object\n",
       "education                                     object\n",
       "arrears                                       object\n",
       "current_balance                              float64\n",
       "housing                                       object\n",
       "has_tv_package                                object\n",
       "last_contact                                  object\n",
       "conn_tr                                        int64\n",
       "last_contact_this_campaign_day                 int64\n",
       "last_contact_this_campaign_month              object\n",
       "this_campaign                                  int64\n",
       "days_since_last_contact_previous_campaign      int64\n",
       "contacted_during_previous_campaign             int64\n",
       "outcome_previous_campaign                     object\n",
       "new_contract_this_campaign                    object\n",
       "dtype: object"
      ]
     },
     "execution_count": 4,
     "metadata": {},
     "output_type": "execute_result"
    }
   ],
   "source": [
    "df.dtypes"
   ]
  },
  {
   "cell_type": "code",
   "execution_count": 5,
   "id": "cfb13ee4",
   "metadata": {},
   "outputs": [
    {
     "name": "stdout",
     "output_type": "stream",
     "text": [
      "<class 'pandas.core.frame.DataFrame'>\n",
      "RangeIndex: 50662 entries, 0 to 50661\n",
      "Data columns (total 20 columns):\n",
      " #   Column                                     Non-Null Count  Dtype  \n",
      "---  ------                                     --------------  -----  \n",
      " 0   ID                                         50662 non-null  int64  \n",
      " 1   town                                       50662 non-null  object \n",
      " 2   country                                    50662 non-null  object \n",
      " 3   age                                        50662 non-null  int64  \n",
      " 4   job                                        50662 non-null  object \n",
      " 5   married                                    50662 non-null  object \n",
      " 6   education                                  50662 non-null  object \n",
      " 7   arrears                                    50662 non-null  object \n",
      " 8   current_balance                            50662 non-null  float64\n",
      " 9   housing                                    50662 non-null  object \n",
      " 10  has_tv_package                             50662 non-null  object \n",
      " 11  last_contact                               50662 non-null  object \n",
      " 12  conn_tr                                    50662 non-null  int64  \n",
      " 13  last_contact_this_campaign_day             50662 non-null  int64  \n",
      " 14  last_contact_this_campaign_month           50662 non-null  object \n",
      " 15  this_campaign                              50662 non-null  int64  \n",
      " 16  days_since_last_contact_previous_campaign  50662 non-null  int64  \n",
      " 17  contacted_during_previous_campaign         50662 non-null  int64  \n",
      " 18  outcome_previous_campaign                  50662 non-null  object \n",
      " 19  new_contract_this_campaign                 50662 non-null  object \n",
      "dtypes: float64(1), int64(7), object(12)\n",
      "memory usage: 7.7+ MB\n"
     ]
    }
   ],
   "source": [
    "df.info()  # checking the various columns and their respective datatype"
   ]
  },
  {
   "cell_type": "code",
   "execution_count": 6,
   "id": "9f729ea7",
   "metadata": {},
   "outputs": [
    {
     "data": {
      "text/plain": [
       "(50662, 20)"
      ]
     },
     "execution_count": 6,
     "metadata": {},
     "output_type": "execute_result"
    }
   ],
   "source": [
    "df.shape # checking the number of training examples and features (training instances, features)"
   ]
  },
  {
   "cell_type": "markdown",
   "id": "b3e510cf",
   "metadata": {},
   "source": [
    "## Goal : explore numerical values "
   ]
  },
  {
   "cell_type": "code",
   "execution_count": 7,
   "id": "e570c95f",
   "metadata": {},
   "outputs": [
    {
     "data": {
      "text/html": [
       "<div>\n",
       "<style scoped>\n",
       "    .dataframe tbody tr th:only-of-type {\n",
       "        vertical-align: middle;\n",
       "    }\n",
       "\n",
       "    .dataframe tbody tr th {\n",
       "        vertical-align: top;\n",
       "    }\n",
       "\n",
       "    .dataframe thead th {\n",
       "        text-align: right;\n",
       "    }\n",
       "</style>\n",
       "<table border=\"1\" class=\"dataframe\">\n",
       "  <thead>\n",
       "    <tr style=\"text-align: right;\">\n",
       "      <th></th>\n",
       "      <th>ID</th>\n",
       "      <th>age</th>\n",
       "      <th>current_balance</th>\n",
       "      <th>conn_tr</th>\n",
       "      <th>last_contact_this_campaign_day</th>\n",
       "      <th>this_campaign</th>\n",
       "      <th>days_since_last_contact_previous_campaign</th>\n",
       "      <th>contacted_during_previous_campaign</th>\n",
       "    </tr>\n",
       "  </thead>\n",
       "  <tbody>\n",
       "    <tr>\n",
       "      <th>count</th>\n",
       "      <td>5.066200e+04</td>\n",
       "      <td>50662.000000</td>\n",
       "      <td>50662.000000</td>\n",
       "      <td>50662.000000</td>\n",
       "      <td>50662.000000</td>\n",
       "      <td>50662.000000</td>\n",
       "      <td>50662.000000</td>\n",
       "      <td>50662.000000</td>\n",
       "    </tr>\n",
       "    <tr>\n",
       "      <th>mean</th>\n",
       "      <td>5.502871e+07</td>\n",
       "      <td>40.979373</td>\n",
       "      <td>13.991210</td>\n",
       "      <td>3.005093</td>\n",
       "      <td>15.768525</td>\n",
       "      <td>2.713217</td>\n",
       "      <td>42.644408</td>\n",
       "      <td>0.640283</td>\n",
       "    </tr>\n",
       "    <tr>\n",
       "      <th>std</th>\n",
       "      <td>2.598596e+07</td>\n",
       "      <td>10.919324</td>\n",
       "      <td>30.899163</td>\n",
       "      <td>1.409003</td>\n",
       "      <td>8.347083</td>\n",
       "      <td>3.052227</td>\n",
       "      <td>102.238078</td>\n",
       "      <td>2.358029</td>\n",
       "    </tr>\n",
       "    <tr>\n",
       "      <th>min</th>\n",
       "      <td>1.000073e+07</td>\n",
       "      <td>18.000000</td>\n",
       "      <td>-80.190000</td>\n",
       "      <td>1.000000</td>\n",
       "      <td>1.000000</td>\n",
       "      <td>1.000000</td>\n",
       "      <td>-1.000000</td>\n",
       "      <td>0.000000</td>\n",
       "    </tr>\n",
       "    <tr>\n",
       "      <th>25%</th>\n",
       "      <td>3.249964e+07</td>\n",
       "      <td>32.000000</td>\n",
       "      <td>0.820000</td>\n",
       "      <td>2.000000</td>\n",
       "      <td>8.000000</td>\n",
       "      <td>1.000000</td>\n",
       "      <td>-1.000000</td>\n",
       "      <td>0.000000</td>\n",
       "    </tr>\n",
       "    <tr>\n",
       "      <th>50%</th>\n",
       "      <td>5.501127e+07</td>\n",
       "      <td>39.000000</td>\n",
       "      <td>4.720000</td>\n",
       "      <td>3.000000</td>\n",
       "      <td>16.000000</td>\n",
       "      <td>2.000000</td>\n",
       "      <td>-1.000000</td>\n",
       "      <td>0.000000</td>\n",
       "    </tr>\n",
       "    <tr>\n",
       "      <th>75%</th>\n",
       "      <td>7.748809e+07</td>\n",
       "      <td>48.000000</td>\n",
       "      <td>14.950000</td>\n",
       "      <td>4.000000</td>\n",
       "      <td>21.000000</td>\n",
       "      <td>3.000000</td>\n",
       "      <td>-1.000000</td>\n",
       "      <td>0.000000</td>\n",
       "    </tr>\n",
       "    <tr>\n",
       "      <th>max</th>\n",
       "      <td>9.999952e+07</td>\n",
       "      <td>95.000000</td>\n",
       "      <td>984.170000</td>\n",
       "      <td>5.000000</td>\n",
       "      <td>31.000000</td>\n",
       "      <td>63.000000</td>\n",
       "      <td>871.000000</td>\n",
       "      <td>275.000000</td>\n",
       "    </tr>\n",
       "  </tbody>\n",
       "</table>\n",
       "</div>"
      ],
      "text/plain": [
       "                 ID           age  current_balance       conn_tr  \\\n",
       "count  5.066200e+04  50662.000000     50662.000000  50662.000000   \n",
       "mean   5.502871e+07     40.979373        13.991210      3.005093   \n",
       "std    2.598596e+07     10.919324        30.899163      1.409003   \n",
       "min    1.000073e+07     18.000000       -80.190000      1.000000   \n",
       "25%    3.249964e+07     32.000000         0.820000      2.000000   \n",
       "50%    5.501127e+07     39.000000         4.720000      3.000000   \n",
       "75%    7.748809e+07     48.000000        14.950000      4.000000   \n",
       "max    9.999952e+07     95.000000       984.170000      5.000000   \n",
       "\n",
       "       last_contact_this_campaign_day  this_campaign  \\\n",
       "count                    50662.000000   50662.000000   \n",
       "mean                        15.768525       2.713217   \n",
       "std                          8.347083       3.052227   \n",
       "min                          1.000000       1.000000   \n",
       "25%                          8.000000       1.000000   \n",
       "50%                         16.000000       2.000000   \n",
       "75%                         21.000000       3.000000   \n",
       "max                         31.000000      63.000000   \n",
       "\n",
       "       days_since_last_contact_previous_campaign  \\\n",
       "count                               50662.000000   \n",
       "mean                                   42.644408   \n",
       "std                                   102.238078   \n",
       "min                                    -1.000000   \n",
       "25%                                    -1.000000   \n",
       "50%                                    -1.000000   \n",
       "75%                                    -1.000000   \n",
       "max                                   871.000000   \n",
       "\n",
       "       contacted_during_previous_campaign  \n",
       "count                        50662.000000  \n",
       "mean                             0.640283  \n",
       "std                              2.358029  \n",
       "min                              0.000000  \n",
       "25%                              0.000000  \n",
       "50%                              0.000000  \n",
       "75%                              0.000000  \n",
       "max                            275.000000  "
      ]
     },
     "execution_count": 7,
     "metadata": {},
     "output_type": "execute_result"
    }
   ],
   "source": [
    "df.describe()"
   ]
  },
  {
   "cell_type": "code",
   "execution_count": 8,
   "id": "57590555",
   "metadata": {
    "scrolled": true
   },
   "outputs": [
    {
     "data": {
      "text/plain": [
       "ID                                           0\n",
       "town                                         0\n",
       "country                                      0\n",
       "age                                          0\n",
       "job                                          0\n",
       "married                                      0\n",
       "education                                    0\n",
       "arrears                                      0\n",
       "current_balance                              0\n",
       "housing                                      0\n",
       "has_tv_package                               0\n",
       "last_contact                                 0\n",
       "conn_tr                                      0\n",
       "last_contact_this_campaign_day               0\n",
       "last_contact_this_campaign_month             0\n",
       "this_campaign                                0\n",
       "days_since_last_contact_previous_campaign    0\n",
       "contacted_during_previous_campaign           0\n",
       "outcome_previous_campaign                    0\n",
       "new_contract_this_campaign                   0\n",
       "dtype: int64"
      ]
     },
     "execution_count": 8,
     "metadata": {},
     "output_type": "execute_result"
    }
   ],
   "source": [
    "df.isnull().sum()  # checking the number of missing values with respect to each feature"
   ]
  },
  {
   "cell_type": "code",
   "execution_count": 9,
   "id": "5846f116",
   "metadata": {},
   "outputs": [
    {
     "data": {
      "text/plain": [
       "[]"
      ]
     },
     "execution_count": 9,
     "metadata": {},
     "output_type": "execute_result"
    }
   ],
   "source": [
    "[features for features in df.columns if df[features].isnull().sum() > 0]"
   ]
  },
  {
   "cell_type": "markdown",
   "id": "2a2dc2d3",
   "metadata": {},
   "source": [
    "## This verifies that there are no missing values in any of the features"
   ]
  },
  {
   "cell_type": "code",
   "execution_count": 10,
   "id": "1d3feff7",
   "metadata": {},
   "outputs": [
    {
     "data": {
      "text/plain": [
       "0"
      ]
     },
     "execution_count": 10,
     "metadata": {},
     "output_type": "execute_result"
    }
   ],
   "source": [
    "# cheching if there are any duplicates\n",
    "df.duplicated().sum()"
   ]
  },
  {
   "cell_type": "code",
   "execution_count": 11,
   "id": "91184bce",
   "metadata": {},
   "outputs": [
    {
     "data": {
      "text/plain": [
       "UK          50657\n",
       "France          2\n",
       "Germany         1\n",
       "USA             1\n",
       "Portugal        1\n",
       "Name: country, dtype: int64"
      ]
     },
     "execution_count": 11,
     "metadata": {},
     "output_type": "execute_result"
    }
   ],
   "source": [
    "# checking for uniquesness of country\n",
    "df.country.value_counts()"
   ]
  },
  {
   "cell_type": "code",
   "execution_count": 12,
   "id": "32e2f0d7",
   "metadata": {},
   "outputs": [],
   "source": [
    "## checking the row index for countries that arent UK so that I can use the index to drop them\n",
    "# df_country = df[df['country'] != \"UK\"]\n",
    "# df_country.head()"
   ]
  },
  {
   "cell_type": "code",
   "execution_count": 13,
   "id": "424fbec9",
   "metadata": {},
   "outputs": [],
   "source": [
    "# droping countries that arent UK\n",
    "# df.drop([632, 658, 747, 1338, 6746], inplace=True)\n",
    "# df.country.value_counts()"
   ]
  },
  {
   "cell_type": "code",
   "execution_count": 14,
   "id": "9345e5cb",
   "metadata": {},
   "outputs": [
    {
     "data": {
      "text/plain": [
       "<AxesSubplot:>"
      ]
     },
     "execution_count": 14,
     "metadata": {},
     "output_type": "execute_result"
    },
    {
     "data": {
      "image/png": "[encoded data removed]",
      "text/plain": [
       "<Figure size 640x480 with 1 Axes>"
      ]
     },
     "metadata": {},
     "output_type": "display_data"
    }
   ],
   "source": [
    "## visualizing class imbalance or balance\n",
    "df.new_contract_this_campaign.value_counts().plot(kind='bar')"
   ]
  },
  {
   "cell_type": "code",
   "execution_count": 15,
   "id": "7bfce827",
   "metadata": {},
   "outputs": [
    {
     "name": "stdout",
     "output_type": "stream",
     "text": [
      "no     40763\n",
      "yes     9899\n",
      "Name: new_contract_this_campaign, dtype: int64\n"
     ]
    }
   ],
   "source": [
    "## counting the number of yes/no in our target( class count)\n",
    "class_count = df['new_contract_this_campaign'].value_counts()\n",
    "print(class_count)"
   ]
  },
  {
   "cell_type": "code",
   "execution_count": 16,
   "id": "06e19327",
   "metadata": {},
   "outputs": [
    {
     "name": "stdout",
     "output_type": "stream",
     "text": [
      "Percentage of yes classes: 19.54%\n",
      "Percentage of no classes: 80.46%\n"
     ]
    }
   ],
   "source": [
    "## checking the percentage of each class\n",
    "no_count = (df[['new_contract_this_campaign']]=='no').sum()\n",
    "yes_count = (df[['new_contract_this_campaign']]=='yes').sum()\n",
    "total_count = no_count + yes_count\n",
    "print(\"Percentage of yes classes: %.2f%%\" % ((yes_count/total_count) *100))\n",
    "print(\"Percentage of no classes: %.2f%%\" % ((no_count/total_count) *100))"
   ]
  },
  {
   "cell_type": "markdown",
   "id": "da00e5ee",
   "metadata": {},
   "source": [
    "### It can be seen that the target value has more no than yes, this shows class imbalance and must be considered"
   ]
  },
  {
   "cell_type": "code",
   "execution_count": 17,
   "id": "7322bce9",
   "metadata": {},
   "outputs": [
    {
     "data": {
      "text/html": [
       "<div>\n",
       "<style scoped>\n",
       "    .dataframe tbody tr th:only-of-type {\n",
       "        vertical-align: middle;\n",
       "    }\n",
       "\n",
       "    .dataframe tbody tr th {\n",
       "        vertical-align: top;\n",
       "    }\n",
       "\n",
       "    .dataframe thead th {\n",
       "        text-align: right;\n",
       "    }\n",
       "</style>\n",
       "<table border=\"1\" class=\"dataframe\">\n",
       "  <thead>\n",
       "    <tr style=\"text-align: right;\">\n",
       "      <th></th>\n",
       "      <th>town</th>\n",
       "      <th>age</th>\n",
       "      <th>job</th>\n",
       "      <th>married</th>\n",
       "      <th>education</th>\n",
       "      <th>arrears</th>\n",
       "      <th>current_balance</th>\n",
       "      <th>housing</th>\n",
       "      <th>has_tv_package</th>\n",
       "      <th>last_contact</th>\n",
       "      <th>last_contact_this_campaign_day</th>\n",
       "      <th>last_contact_this_campaign_month</th>\n",
       "      <th>this_campaign</th>\n",
       "      <th>days_since_last_contact_previous_campaign</th>\n",
       "      <th>contacted_during_previous_campaign</th>\n",
       "      <th>outcome_previous_campaign</th>\n",
       "      <th>new_contract_this_campaign</th>\n",
       "    </tr>\n",
       "  </thead>\n",
       "  <tbody>\n",
       "    <tr>\n",
       "      <th>0</th>\n",
       "      <td>Bristol</td>\n",
       "      <td>39</td>\n",
       "      <td>management</td>\n",
       "      <td>married</td>\n",
       "      <td>tertiary</td>\n",
       "      <td>no</td>\n",
       "      <td>-1.90</td>\n",
       "      <td>no</td>\n",
       "      <td>yes</td>\n",
       "      <td>unknown</td>\n",
       "      <td>11</td>\n",
       "      <td>jun</td>\n",
       "      <td>8</td>\n",
       "      <td>-1</td>\n",
       "      <td>0</td>\n",
       "      <td>unknown</td>\n",
       "      <td>yes</td>\n",
       "    </tr>\n",
       "    <tr>\n",
       "      <th>1</th>\n",
       "      <td>Basildon</td>\n",
       "      <td>53</td>\n",
       "      <td>housemaid</td>\n",
       "      <td>married</td>\n",
       "      <td>primary</td>\n",
       "      <td>no</td>\n",
       "      <td>3.62</td>\n",
       "      <td>no</td>\n",
       "      <td>no</td>\n",
       "      <td>cellular</td>\n",
       "      <td>28</td>\n",
       "      <td>jul</td>\n",
       "      <td>2</td>\n",
       "      <td>-1</td>\n",
       "      <td>0</td>\n",
       "      <td>unknown</td>\n",
       "      <td>yes</td>\n",
       "    </tr>\n",
       "    <tr>\n",
       "      <th>2</th>\n",
       "      <td>Blackburn</td>\n",
       "      <td>79</td>\n",
       "      <td>retired</td>\n",
       "      <td>divorced</td>\n",
       "      <td>primary</td>\n",
       "      <td>no</td>\n",
       "      <td>27.87</td>\n",
       "      <td>no</td>\n",
       "      <td>no</td>\n",
       "      <td>telephone</td>\n",
       "      <td>13</td>\n",
       "      <td>jul</td>\n",
       "      <td>1</td>\n",
       "      <td>377</td>\n",
       "      <td>1</td>\n",
       "      <td>success</td>\n",
       "      <td>yes</td>\n",
       "    </tr>\n",
       "    <tr>\n",
       "      <th>3</th>\n",
       "      <td>Oldham</td>\n",
       "      <td>43</td>\n",
       "      <td>services</td>\n",
       "      <td>single</td>\n",
       "      <td>secondary</td>\n",
       "      <td>no</td>\n",
       "      <td>5.50</td>\n",
       "      <td>yes</td>\n",
       "      <td>no</td>\n",
       "      <td>cellular</td>\n",
       "      <td>13</td>\n",
       "      <td>may</td>\n",
       "      <td>2</td>\n",
       "      <td>-1</td>\n",
       "      <td>0</td>\n",
       "      <td>unknown</td>\n",
       "      <td>no</td>\n",
       "    </tr>\n",
       "    <tr>\n",
       "      <th>4</th>\n",
       "      <td>Middlesbrough</td>\n",
       "      <td>35</td>\n",
       "      <td>technician</td>\n",
       "      <td>single</td>\n",
       "      <td>secondary</td>\n",
       "      <td>no</td>\n",
       "      <td>3.44</td>\n",
       "      <td>no</td>\n",
       "      <td>no</td>\n",
       "      <td>cellular</td>\n",
       "      <td>27</td>\n",
       "      <td>aug</td>\n",
       "      <td>16</td>\n",
       "      <td>-1</td>\n",
       "      <td>0</td>\n",
       "      <td>unknown</td>\n",
       "      <td>yes</td>\n",
       "    </tr>\n",
       "  </tbody>\n",
       "</table>\n",
       "</div>"
      ],
      "text/plain": [
       "            town  age         job   married  education arrears  \\\n",
       "0        Bristol   39  management   married   tertiary      no   \n",
       "1       Basildon   53   housemaid   married    primary      no   \n",
       "2      Blackburn   79     retired  divorced    primary      no   \n",
       "3         Oldham   43    services    single  secondary      no   \n",
       "4  Middlesbrough   35  technician    single  secondary      no   \n",
       "\n",
       "   current_balance housing has_tv_package last_contact  \\\n",
       "0            -1.90      no            yes      unknown   \n",
       "1             3.62      no             no     cellular   \n",
       "2            27.87      no             no    telephone   \n",
       "3             5.50     yes             no     cellular   \n",
       "4             3.44      no             no     cellular   \n",
       "\n",
       "   last_contact_this_campaign_day last_contact_this_campaign_month  \\\n",
       "0                              11                              jun   \n",
       "1                              28                              jul   \n",
       "2                              13                              jul   \n",
       "3                              13                              may   \n",
       "4                              27                              aug   \n",
       "\n",
       "   this_campaign  days_since_last_contact_previous_campaign  \\\n",
       "0              8                                         -1   \n",
       "1              2                                         -1   \n",
       "2              1                                        377   \n",
       "3              2                                         -1   \n",
       "4             16                                         -1   \n",
       "\n",
       "   contacted_during_previous_campaign outcome_previous_campaign  \\\n",
       "0                                   0                   unknown   \n",
       "1                                   0                   unknown   \n",
       "2                                   1                   success   \n",
       "3                                   0                   unknown   \n",
       "4                                   0                   unknown   \n",
       "\n",
       "  new_contract_this_campaign  \n",
       "0                        yes  \n",
       "1                        yes  \n",
       "2                        yes  \n",
       "3                         no  \n",
       "4                        yes  "
      ]
     },
     "execution_count": 17,
     "metadata": {},
     "output_type": "execute_result"
    }
   ],
   "source": [
    "## we can drop the following columns\n",
    "## ID , country(because we only have one country(UK)), conn_tr(some kind of ID)\n",
    "df_new = df.copy()\n",
    "df_new.drop(['ID', 'country', 'conn_tr'], axis=1, inplace=True)\n",
    "df_new.head()"
   ]
  },
  {
   "cell_type": "code",
   "execution_count": 18,
   "id": "bd322a9f",
   "metadata": {},
   "outputs": [],
   "source": [
    "## Treating outliers set all values below the 25th percentile to 25th percentile\n",
    "## and set all values above the 90th percentile\n",
    "## separate numerical data from categorical data\n",
    "df_num = df_new.filter(['age','current_balance','last_contact_this_campaign_day','this_campaign','days_since_last_contact_previous_campaign','contacted_during_previous_campaign'],axis=1).copy()\n",
    "df_cat = df_new.filter(['town','job','married','education','arrears','housing','has_tv_package','last_contact','last_contact_this_campaign_month','outcome_previous_campaign'],axis=1).copy()\n",
    "df_num = df_num.clip(lower=df_num.quantile(0.05), upper = df_num.quantile(0.90), axis=1)\n"
   ]
  },
  {
   "cell_type": "code",
   "execution_count": 19,
   "id": "3d63af60",
   "metadata": {},
   "outputs": [
    {
     "data": {
      "text/plain": [
       "(50662, 10)"
      ]
     },
     "execution_count": 19,
     "metadata": {},
     "output_type": "execute_result"
    }
   ],
   "source": [
    "df_cat.shape"
   ]
  },
  {
   "cell_type": "code",
   "execution_count": 20,
   "id": "edce9b15",
   "metadata": {},
   "outputs": [
    {
     "data": {
      "text/html": [
       "<div>\n",
       "<style scoped>\n",
       "    .dataframe tbody tr th:only-of-type {\n",
       "        vertical-align: middle;\n",
       "    }\n",
       "\n",
       "    .dataframe tbody tr th {\n",
       "        vertical-align: top;\n",
       "    }\n",
       "\n",
       "    .dataframe thead th {\n",
       "        text-align: right;\n",
       "    }\n",
       "</style>\n",
       "<table border=\"1\" class=\"dataframe\">\n",
       "  <thead>\n",
       "    <tr style=\"text-align: right;\">\n",
       "      <th></th>\n",
       "      <th>age</th>\n",
       "      <th>current_balance</th>\n",
       "      <th>last_contact_this_campaign_day</th>\n",
       "      <th>this_campaign</th>\n",
       "      <th>days_since_last_contact_previous_campaign</th>\n",
       "      <th>contacted_during_previous_campaign</th>\n",
       "    </tr>\n",
       "  </thead>\n",
       "  <tbody>\n",
       "    <tr>\n",
       "      <th>count</th>\n",
       "      <td>50662.000000</td>\n",
       "      <td>50662.000000</td>\n",
       "      <td>50662.000000</td>\n",
       "      <td>50662.000000</td>\n",
       "      <td>50662.000000</td>\n",
       "      <td>50662.000000</td>\n",
       "    </tr>\n",
       "    <tr>\n",
       "      <th>mean</th>\n",
       "      <td>40.456437</td>\n",
       "      <td>9.942657</td>\n",
       "      <td>15.662410</td>\n",
       "      <td>2.265584</td>\n",
       "      <td>30.173542</td>\n",
       "      <td>0.332083</td>\n",
       "    </tr>\n",
       "    <tr>\n",
       "      <th>std</th>\n",
       "      <td>9.477336</td>\n",
       "      <td>12.096474</td>\n",
       "      <td>8.025547</td>\n",
       "      <td>1.385914</td>\n",
       "      <td>65.894966</td>\n",
       "      <td>0.699339</td>\n",
       "    </tr>\n",
       "    <tr>\n",
       "      <th>min</th>\n",
       "      <td>26.000000</td>\n",
       "      <td>-1.490000</td>\n",
       "      <td>3.000000</td>\n",
       "      <td>1.000000</td>\n",
       "      <td>-1.000000</td>\n",
       "      <td>0.000000</td>\n",
       "    </tr>\n",
       "    <tr>\n",
       "      <th>25%</th>\n",
       "      <td>32.000000</td>\n",
       "      <td>0.820000</td>\n",
       "      <td>8.000000</td>\n",
       "      <td>1.000000</td>\n",
       "      <td>-1.000000</td>\n",
       "      <td>0.000000</td>\n",
       "    </tr>\n",
       "    <tr>\n",
       "      <th>50%</th>\n",
       "      <td>39.000000</td>\n",
       "      <td>4.720000</td>\n",
       "      <td>16.000000</td>\n",
       "      <td>2.000000</td>\n",
       "      <td>-1.000000</td>\n",
       "      <td>0.000000</td>\n",
       "    </tr>\n",
       "    <tr>\n",
       "      <th>75%</th>\n",
       "      <td>48.000000</td>\n",
       "      <td>14.950000</td>\n",
       "      <td>21.000000</td>\n",
       "      <td>3.000000</td>\n",
       "      <td>-1.000000</td>\n",
       "      <td>0.000000</td>\n",
       "    </tr>\n",
       "    <tr>\n",
       "      <th>max</th>\n",
       "      <td>56.000000</td>\n",
       "      <td>36.580000</td>\n",
       "      <td>28.000000</td>\n",
       "      <td>5.000000</td>\n",
       "      <td>187.000000</td>\n",
       "      <td>2.000000</td>\n",
       "    </tr>\n",
       "  </tbody>\n",
       "</table>\n",
       "</div>"
      ],
      "text/plain": [
       "                age  current_balance  last_contact_this_campaign_day  \\\n",
       "count  50662.000000     50662.000000                    50662.000000   \n",
       "mean      40.456437         9.942657                       15.662410   \n",
       "std        9.477336        12.096474                        8.025547   \n",
       "min       26.000000        -1.490000                        3.000000   \n",
       "25%       32.000000         0.820000                        8.000000   \n",
       "50%       39.000000         4.720000                       16.000000   \n",
       "75%       48.000000        14.950000                       21.000000   \n",
       "max       56.000000        36.580000                       28.000000   \n",
       "\n",
       "       this_campaign  days_since_last_contact_previous_campaign  \\\n",
       "count   50662.000000                               50662.000000   \n",
       "mean        2.265584                                  30.173542   \n",
       "std         1.385914                                  65.894966   \n",
       "min         1.000000                                  -1.000000   \n",
       "25%         1.000000                                  -1.000000   \n",
       "50%         2.000000                                  -1.000000   \n",
       "75%         3.000000                                  -1.000000   \n",
       "max         5.000000                                 187.000000   \n",
       "\n",
       "       contacted_during_previous_campaign  \n",
       "count                        50662.000000  \n",
       "mean                             0.332083  \n",
       "std                              0.699339  \n",
       "min                              0.000000  \n",
       "25%                              0.000000  \n",
       "50%                              0.000000  \n",
       "75%                              0.000000  \n",
       "max                              2.000000  "
      ]
     },
     "execution_count": 20,
     "metadata": {},
     "output_type": "execute_result"
    }
   ],
   "source": [
    "df_num.describe()"
   ]
  },
  {
   "cell_type": "code",
   "execution_count": 21,
   "id": "ed68d104",
   "metadata": {},
   "outputs": [
    {
     "data": {
      "text/html": [
       "<div>\n",
       "<style scoped>\n",
       "    .dataframe tbody tr th:only-of-type {\n",
       "        vertical-align: middle;\n",
       "    }\n",
       "\n",
       "    .dataframe tbody tr th {\n",
       "        vertical-align: top;\n",
       "    }\n",
       "\n",
       "    .dataframe thead th {\n",
       "        text-align: right;\n",
       "    }\n",
       "</style>\n",
       "<table border=\"1\" class=\"dataframe\">\n",
       "  <thead>\n",
       "    <tr style=\"text-align: right;\">\n",
       "      <th></th>\n",
       "      <th>age</th>\n",
       "      <th>current_balance</th>\n",
       "      <th>last_contact_this_campaign_day</th>\n",
       "      <th>this_campaign</th>\n",
       "      <th>days_since_last_contact_previous_campaign</th>\n",
       "      <th>contacted_during_previous_campaign</th>\n",
       "    </tr>\n",
       "  </thead>\n",
       "  <tbody>\n",
       "    <tr>\n",
       "      <th>0</th>\n",
       "      <td>-0.153677</td>\n",
       "      <td>-0.945132</td>\n",
       "      <td>-0.580952</td>\n",
       "      <td>1.973025</td>\n",
       "      <td>-0.473084</td>\n",
       "      <td>-0.474858</td>\n",
       "    </tr>\n",
       "    <tr>\n",
       "      <th>1</th>\n",
       "      <td>1.323546</td>\n",
       "      <td>-0.522691</td>\n",
       "      <td>1.537305</td>\n",
       "      <td>-0.191633</td>\n",
       "      <td>-0.473084</td>\n",
       "      <td>-0.474858</td>\n",
       "    </tr>\n",
       "    <tr>\n",
       "      <th>2</th>\n",
       "      <td>1.640094</td>\n",
       "      <td>1.482045</td>\n",
       "      <td>-0.331745</td>\n",
       "      <td>-0.913185</td>\n",
       "      <td>2.379969</td>\n",
       "      <td>0.955078</td>\n",
       "    </tr>\n",
       "    <tr>\n",
       "      <th>3</th>\n",
       "      <td>0.268386</td>\n",
       "      <td>-0.367272</td>\n",
       "      <td>-0.331745</td>\n",
       "      <td>-0.191633</td>\n",
       "      <td>-0.473084</td>\n",
       "      <td>-0.474858</td>\n",
       "    </tr>\n",
       "    <tr>\n",
       "      <th>4</th>\n",
       "      <td>-0.575741</td>\n",
       "      <td>-0.537572</td>\n",
       "      <td>1.412701</td>\n",
       "      <td>1.973025</td>\n",
       "      <td>-0.473084</td>\n",
       "      <td>-0.474858</td>\n",
       "    </tr>\n",
       "  </tbody>\n",
       "</table>\n",
       "</div>"
      ],
      "text/plain": [
       "        age  current_balance  last_contact_this_campaign_day  this_campaign  \\\n",
       "0 -0.153677        -0.945132                       -0.580952       1.973025   \n",
       "1  1.323546        -0.522691                        1.537305      -0.191633   \n",
       "2  1.640094         1.482045                       -0.331745      -0.913185   \n",
       "3  0.268386        -0.367272                       -0.331745      -0.191633   \n",
       "4 -0.575741        -0.537572                        1.412701       1.973025   \n",
       "\n",
       "   days_since_last_contact_previous_campaign  \\\n",
       "0                                  -0.473084   \n",
       "1                                  -0.473084   \n",
       "2                                   2.379969   \n",
       "3                                  -0.473084   \n",
       "4                                  -0.473084   \n",
       "\n",
       "   contacted_during_previous_campaign  \n",
       "0                           -0.474858  \n",
       "1                           -0.474858  \n",
       "2                            0.955078  \n",
       "3                           -0.474858  \n",
       "4                           -0.474858  "
      ]
     },
     "execution_count": 21,
     "metadata": {},
     "output_type": "execute_result"
    }
   ],
   "source": [
    "## scaling numerical features with standardscaler\n",
    "\n",
    "from sklearn.preprocessing import StandardScaler\n",
    "# Scale the features\n",
    "scaler = StandardScaler()\n",
    "data_scaled = scaler.fit_transform(df_num)\n",
    "# creatin a pandas dataframe out of the scaled data\n",
    "df_num = pd.DataFrame(data_scaled, columns=df_num.columns)\n",
    "df_num.head()"
   ]
  },
  {
   "cell_type": "markdown",
   "id": "dc27361f",
   "metadata": {},
   "source": [
    "# Pandas profiling"
   ]
  },
  {
   "cell_type": "code",
   "execution_count": 22,
   "id": "66ed9ff5",
   "metadata": {},
   "outputs": [],
   "source": [
    "## from ydata_profiling import ProfileReport\n",
    "## p_report = ProfileReport(df, title='Profile Report')\n",
    "## p_report.to_file('report.html')  "
   ]
  },
  {
   "cell_type": "code",
   "execution_count": 23,
   "id": "20e3c5a2",
   "metadata": {},
   "outputs": [
    {
     "data": {
      "image/png": "[encoded data removed]",
      "text/plain": [
       "<Figure size 640x480 with 2 Axes>"
      ]
     },
     "metadata": {},
     "output_type": "display_data"
    }
   ],
   "source": [
    "## checking correlation between varialbles and visualing it \n",
    "corr_matrix = df.corr()\n",
    "sns.heatmap(corr_matrix, annot=True, cmap='coolwarm')\n",
    "plt.show()    ## why didn't it show negative correlation coefficient"
   ]
  },
  {
   "cell_type": "markdown",
   "id": "caebbfc4",
   "metadata": {},
   "source": [
    "### Dealing with categorical values, changing to numeric types"
   ]
  },
  {
   "cell_type": "code",
   "execution_count": 24,
   "id": "7d10d937",
   "metadata": {},
   "outputs": [
    {
     "data": {
      "text/html": [
       "<div>\n",
       "<style scoped>\n",
       "    .dataframe tbody tr th:only-of-type {\n",
       "        vertical-align: middle;\n",
       "    }\n",
       "\n",
       "    .dataframe tbody tr th {\n",
       "        vertical-align: top;\n",
       "    }\n",
       "\n",
       "    .dataframe thead th {\n",
       "        text-align: right;\n",
       "    }\n",
       "</style>\n",
       "<table border=\"1\" class=\"dataframe\">\n",
       "  <thead>\n",
       "    <tr style=\"text-align: right;\">\n",
       "      <th></th>\n",
       "      <th>town</th>\n",
       "      <th>job</th>\n",
       "      <th>married</th>\n",
       "      <th>education</th>\n",
       "      <th>arrears</th>\n",
       "      <th>housing</th>\n",
       "      <th>has_tv_package</th>\n",
       "      <th>last_contact</th>\n",
       "      <th>last_contact_this_campaign_month</th>\n",
       "      <th>outcome_previous_campaign</th>\n",
       "    </tr>\n",
       "  </thead>\n",
       "  <tbody>\n",
       "    <tr>\n",
       "      <th>0</th>\n",
       "      <td>15</td>\n",
       "      <td>4</td>\n",
       "      <td>1</td>\n",
       "      <td>2</td>\n",
       "      <td>0</td>\n",
       "      <td>0</td>\n",
       "      <td>2</td>\n",
       "      <td>3</td>\n",
       "      <td>7</td>\n",
       "      <td>3</td>\n",
       "    </tr>\n",
       "    <tr>\n",
       "      <th>1</th>\n",
       "      <td>2</td>\n",
       "      <td>3</td>\n",
       "      <td>1</td>\n",
       "      <td>0</td>\n",
       "      <td>0</td>\n",
       "      <td>0</td>\n",
       "      <td>1</td>\n",
       "      <td>1</td>\n",
       "      <td>6</td>\n",
       "      <td>3</td>\n",
       "    </tr>\n",
       "    <tr>\n",
       "      <th>2</th>\n",
       "      <td>9</td>\n",
       "      <td>5</td>\n",
       "      <td>0</td>\n",
       "      <td>0</td>\n",
       "      <td>0</td>\n",
       "      <td>0</td>\n",
       "      <td>1</td>\n",
       "      <td>2</td>\n",
       "      <td>6</td>\n",
       "      <td>2</td>\n",
       "    </tr>\n",
       "    <tr>\n",
       "      <th>3</th>\n",
       "      <td>62</td>\n",
       "      <td>7</td>\n",
       "      <td>2</td>\n",
       "      <td>1</td>\n",
       "      <td>0</td>\n",
       "      <td>1</td>\n",
       "      <td>1</td>\n",
       "      <td>1</td>\n",
       "      <td>9</td>\n",
       "      <td>3</td>\n",
       "    </tr>\n",
       "    <tr>\n",
       "      <th>4</th>\n",
       "      <td>54</td>\n",
       "      <td>9</td>\n",
       "      <td>2</td>\n",
       "      <td>1</td>\n",
       "      <td>0</td>\n",
       "      <td>0</td>\n",
       "      <td>1</td>\n",
       "      <td>1</td>\n",
       "      <td>1</td>\n",
       "      <td>3</td>\n",
       "    </tr>\n",
       "  </tbody>\n",
       "</table>\n",
       "</div>"
      ],
      "text/plain": [
       "   town  job  married  education  arrears  housing  has_tv_package  \\\n",
       "0    15    4        1          2        0        0               2   \n",
       "1     2    3        1          0        0        0               1   \n",
       "2     9    5        0          0        0        0               1   \n",
       "3    62    7        2          1        0        1               1   \n",
       "4    54    9        2          1        0        0               1   \n",
       "\n",
       "   last_contact  last_contact_this_campaign_month  outcome_previous_campaign  \n",
       "0             3                                 7                          3  \n",
       "1             1                                 6                          3  \n",
       "2             2                                 6                          2  \n",
       "3             1                                 9                          3  \n",
       "4             1                                 1                          3  "
      ]
     },
     "execution_count": 24,
     "metadata": {},
     "output_type": "execute_result"
    }
   ],
   "source": [
    "## changing all categorical data into numeric \n",
    "## using the label encoder\n",
    "label_encoder = LabelEncoder()\n",
    "for cols in df_cat.columns:\n",
    "    df_cat[cols] = label_encoder.fit_transform(df_cat[cols])\n",
    "df_cat.head()"
   ]
  },
  {
   "cell_type": "code",
   "execution_count": 25,
   "id": "efaf4a51",
   "metadata": {},
   "outputs": [
    {
     "data": {
      "text/plain": [
       "(50662, 10)"
      ]
     },
     "execution_count": 25,
     "metadata": {},
     "output_type": "execute_result"
    }
   ],
   "source": [
    "df_cat.shape"
   ]
  },
  {
   "cell_type": "code",
   "execution_count": 26,
   "id": "54359557",
   "metadata": {},
   "outputs": [
    {
     "data": {
      "text/plain": [
       "(50662, 6)"
      ]
     },
     "execution_count": 26,
     "metadata": {},
     "output_type": "execute_result"
    }
   ],
   "source": [
    "df_num.shape"
   ]
  },
  {
   "cell_type": "code",
   "execution_count": 27,
   "id": "f3b5af06",
   "metadata": {},
   "outputs": [
    {
     "data": {
      "text/plain": [
       "array([2, 1, 0])"
      ]
     },
     "execution_count": 27,
     "metadata": {},
     "output_type": "execute_result"
    }
   ],
   "source": [
    "df_cat['has_tv_package'].unique()"
   ]
  },
  {
   "cell_type": "code",
   "execution_count": 28,
   "id": "c680e358",
   "metadata": {},
   "outputs": [
    {
     "name": "stdout",
     "output_type": "stream",
     "text": [
      "(50662, 16)\n",
      "(50662, 1)\n"
     ]
    },
    {
     "data": {
      "text/html": [
       "<div>\n",
       "<style scoped>\n",
       "    .dataframe tbody tr th:only-of-type {\n",
       "        vertical-align: middle;\n",
       "    }\n",
       "\n",
       "    .dataframe tbody tr th {\n",
       "        vertical-align: top;\n",
       "    }\n",
       "\n",
       "    .dataframe thead th {\n",
       "        text-align: right;\n",
       "    }\n",
       "</style>\n",
       "<table border=\"1\" class=\"dataframe\">\n",
       "  <thead>\n",
       "    <tr style=\"text-align: right;\">\n",
       "      <th></th>\n",
       "      <th>new_contract_this_campaign</th>\n",
       "    </tr>\n",
       "  </thead>\n",
       "  <tbody>\n",
       "    <tr>\n",
       "      <th>0</th>\n",
       "      <td>yes</td>\n",
       "    </tr>\n",
       "    <tr>\n",
       "      <th>1</th>\n",
       "      <td>yes</td>\n",
       "    </tr>\n",
       "    <tr>\n",
       "      <th>2</th>\n",
       "      <td>yes</td>\n",
       "    </tr>\n",
       "    <tr>\n",
       "      <th>3</th>\n",
       "      <td>no</td>\n",
       "    </tr>\n",
       "    <tr>\n",
       "      <th>4</th>\n",
       "      <td>yes</td>\n",
       "    </tr>\n",
       "  </tbody>\n",
       "</table>\n",
       "</div>"
      ],
      "text/plain": [
       "  new_contract_this_campaign\n",
       "0                        yes\n",
       "1                        yes\n",
       "2                        yes\n",
       "3                         no\n",
       "4                        yes"
      ]
     },
     "execution_count": 28,
     "metadata": {},
     "output_type": "execute_result"
    }
   ],
   "source": [
    "## join the num dataframe to categorical dataframe \n",
    "## separate the label/target\n",
    "X = pd.concat([df_cat,df_num], join='outer', axis = 1)\n",
    "y = df.filter(['new_contract_this_campaign'])\n",
    "print(X.shape)\n",
    "print(y.shape)\n",
    "y.head()"
   ]
  },
  {
   "cell_type": "code",
   "execution_count": 29,
   "id": "83302f93",
   "metadata": {},
   "outputs": [
    {
     "data": {
      "text/html": [
       "<div>\n",
       "<style scoped>\n",
       "    .dataframe tbody tr th:only-of-type {\n",
       "        vertical-align: middle;\n",
       "    }\n",
       "\n",
       "    .dataframe tbody tr th {\n",
       "        vertical-align: top;\n",
       "    }\n",
       "\n",
       "    .dataframe thead th {\n",
       "        text-align: right;\n",
       "    }\n",
       "</style>\n",
       "<table border=\"1\" class=\"dataframe\">\n",
       "  <thead>\n",
       "    <tr style=\"text-align: right;\">\n",
       "      <th></th>\n",
       "      <th>new_contract_this_campaign</th>\n",
       "    </tr>\n",
       "  </thead>\n",
       "  <tbody>\n",
       "    <tr>\n",
       "      <th>0</th>\n",
       "      <td>1</td>\n",
       "    </tr>\n",
       "    <tr>\n",
       "      <th>1</th>\n",
       "      <td>1</td>\n",
       "    </tr>\n",
       "    <tr>\n",
       "      <th>2</th>\n",
       "      <td>1</td>\n",
       "    </tr>\n",
       "    <tr>\n",
       "      <th>3</th>\n",
       "      <td>0</td>\n",
       "    </tr>\n",
       "    <tr>\n",
       "      <th>4</th>\n",
       "      <td>1</td>\n",
       "    </tr>\n",
       "  </tbody>\n",
       "</table>\n",
       "</div>"
      ],
      "text/plain": [
       "   new_contract_this_campaign\n",
       "0                           1\n",
       "1                           1\n",
       "2                           1\n",
       "3                           0\n",
       "4                           1"
      ]
     },
     "execution_count": 29,
     "metadata": {},
     "output_type": "execute_result"
    }
   ],
   "source": [
    "# changing target to numerical type\n",
    "y['new_contract_this_campaign'] = y['new_contract_this_campaign'].replace(['yes','no'], [1,0])\n",
    "y.head()"
   ]
  },
  {
   "cell_type": "code",
   "execution_count": 30,
   "id": "976eef14",
   "metadata": {},
   "outputs": [
    {
     "data": {
      "text/html": [
       "<div>\n",
       "<style scoped>\n",
       "    .dataframe tbody tr th:only-of-type {\n",
       "        vertical-align: middle;\n",
       "    }\n",
       "\n",
       "    .dataframe tbody tr th {\n",
       "        vertical-align: top;\n",
       "    }\n",
       "\n",
       "    .dataframe thead th {\n",
       "        text-align: right;\n",
       "    }\n",
       "</style>\n",
       "<table border=\"1\" class=\"dataframe\">\n",
       "  <thead>\n",
       "    <tr style=\"text-align: right;\">\n",
       "      <th></th>\n",
       "      <th>town</th>\n",
       "      <th>job</th>\n",
       "      <th>married</th>\n",
       "      <th>education</th>\n",
       "      <th>arrears</th>\n",
       "      <th>housing</th>\n",
       "      <th>has_tv_package</th>\n",
       "      <th>last_contact</th>\n",
       "      <th>last_contact_this_campaign_month</th>\n",
       "      <th>outcome_previous_campaign</th>\n",
       "      <th>age</th>\n",
       "      <th>current_balance</th>\n",
       "      <th>last_contact_this_campaign_day</th>\n",
       "      <th>this_campaign</th>\n",
       "      <th>days_since_last_contact_previous_campaign</th>\n",
       "      <th>contacted_during_previous_campaign</th>\n",
       "    </tr>\n",
       "  </thead>\n",
       "  <tbody>\n",
       "    <tr>\n",
       "      <th>0</th>\n",
       "      <td>-1.141491</td>\n",
       "      <td>-0.113881</td>\n",
       "      <td>-0.28712</td>\n",
       "      <td>1.020059</td>\n",
       "      <td>-0.13203</td>\n",
       "      <td>-1.078857</td>\n",
       "      <td>2.348441</td>\n",
       "      <td>1.574527</td>\n",
       "      <td>0.220321</td>\n",
       "      <td>0.461409</td>\n",
       "      <td>-0.153677</td>\n",
       "      <td>-0.945132</td>\n",
       "      <td>-0.580952</td>\n",
       "      <td>1.973025</td>\n",
       "      <td>-0.473084</td>\n",
       "      <td>-0.474858</td>\n",
       "    </tr>\n",
       "    <tr>\n",
       "      <th>1</th>\n",
       "      <td>-1.606911</td>\n",
       "      <td>-0.420163</td>\n",
       "      <td>-0.28712</td>\n",
       "      <td>-1.655352</td>\n",
       "      <td>-0.13203</td>\n",
       "      <td>-1.078857</td>\n",
       "      <td>-0.425168</td>\n",
       "      <td>-0.688158</td>\n",
       "      <td>-0.070588</td>\n",
       "      <td>0.461409</td>\n",
       "      <td>1.323546</td>\n",
       "      <td>-0.522691</td>\n",
       "      <td>1.537305</td>\n",
       "      <td>-0.191633</td>\n",
       "      <td>-0.473084</td>\n",
       "      <td>-0.474858</td>\n",
       "    </tr>\n",
       "    <tr>\n",
       "      <th>2</th>\n",
       "      <td>-1.356300</td>\n",
       "      <td>0.192401</td>\n",
       "      <td>-1.91803</td>\n",
       "      <td>-1.655352</td>\n",
       "      <td>-0.13203</td>\n",
       "      <td>-1.078857</td>\n",
       "      <td>-0.425168</td>\n",
       "      <td>0.443185</td>\n",
       "      <td>-0.070588</td>\n",
       "      <td>-0.546694</td>\n",
       "      <td>1.640094</td>\n",
       "      <td>1.482045</td>\n",
       "      <td>-0.331745</td>\n",
       "      <td>-0.913185</td>\n",
       "      <td>2.379969</td>\n",
       "      <td>0.955078</td>\n",
       "    </tr>\n",
       "    <tr>\n",
       "      <th>3</th>\n",
       "      <td>0.541180</td>\n",
       "      <td>0.804965</td>\n",
       "      <td>1.34379</td>\n",
       "      <td>-0.317646</td>\n",
       "      <td>-0.13203</td>\n",
       "      <td>0.926907</td>\n",
       "      <td>-0.425168</td>\n",
       "      <td>-0.688158</td>\n",
       "      <td>0.802141</td>\n",
       "      <td>0.461409</td>\n",
       "      <td>0.268386</td>\n",
       "      <td>-0.367272</td>\n",
       "      <td>-0.331745</td>\n",
       "      <td>-0.191633</td>\n",
       "      <td>-0.473084</td>\n",
       "      <td>-0.474858</td>\n",
       "    </tr>\n",
       "    <tr>\n",
       "      <th>4</th>\n",
       "      <td>0.254768</td>\n",
       "      <td>1.417529</td>\n",
       "      <td>1.34379</td>\n",
       "      <td>-0.317646</td>\n",
       "      <td>-0.13203</td>\n",
       "      <td>-1.078857</td>\n",
       "      <td>-0.425168</td>\n",
       "      <td>-0.688158</td>\n",
       "      <td>-1.525137</td>\n",
       "      <td>0.461409</td>\n",
       "      <td>-0.575741</td>\n",
       "      <td>-0.537572</td>\n",
       "      <td>1.412701</td>\n",
       "      <td>1.973025</td>\n",
       "      <td>-0.473084</td>\n",
       "      <td>-0.474858</td>\n",
       "    </tr>\n",
       "  </tbody>\n",
       "</table>\n",
       "</div>"
      ],
      "text/plain": [
       "       town       job  married  education  arrears   housing  has_tv_package  \\\n",
       "0 -1.141491 -0.113881 -0.28712   1.020059 -0.13203 -1.078857        2.348441   \n",
       "1 -1.606911 -0.420163 -0.28712  -1.655352 -0.13203 -1.078857       -0.425168   \n",
       "2 -1.356300  0.192401 -1.91803  -1.655352 -0.13203 -1.078857       -0.425168   \n",
       "3  0.541180  0.804965  1.34379  -0.317646 -0.13203  0.926907       -0.425168   \n",
       "4  0.254768  1.417529  1.34379  -0.317646 -0.13203 -1.078857       -0.425168   \n",
       "\n",
       "   last_contact  last_contact_this_campaign_month  outcome_previous_campaign  \\\n",
       "0      1.574527                          0.220321                   0.461409   \n",
       "1     -0.688158                         -0.070588                   0.461409   \n",
       "2      0.443185                         -0.070588                  -0.546694   \n",
       "3     -0.688158                          0.802141                   0.461409   \n",
       "4     -0.688158                         -1.525137                   0.461409   \n",
       "\n",
       "        age  current_balance  last_contact_this_campaign_day  this_campaign  \\\n",
       "0 -0.153677        -0.945132                       -0.580952       1.973025   \n",
       "1  1.323546        -0.522691                        1.537305      -0.191633   \n",
       "2  1.640094         1.482045                       -0.331745      -0.913185   \n",
       "3  0.268386        -0.367272                       -0.331745      -0.191633   \n",
       "4 -0.575741        -0.537572                        1.412701       1.973025   \n",
       "\n",
       "   days_since_last_contact_previous_campaign  \\\n",
       "0                                  -0.473084   \n",
       "1                                  -0.473084   \n",
       "2                                   2.379969   \n",
       "3                                  -0.473084   \n",
       "4                                  -0.473084   \n",
       "\n",
       "   contacted_during_previous_campaign  \n",
       "0                           -0.474858  \n",
       "1                           -0.474858  \n",
       "2                            0.955078  \n",
       "3                           -0.474858  \n",
       "4                           -0.474858  "
      ]
     },
     "execution_count": 30,
     "metadata": {},
     "output_type": "execute_result"
    }
   ],
   "source": [
    "## feature scaling\n",
    "X = pd.DataFrame(scaler.fit_transform(X), columns=X.columns)\n",
    "X.head()"
   ]
  },
  {
   "cell_type": "markdown",
   "id": "ee079c2c",
   "metadata": {},
   "source": [
    "###   feature of importance selection methods"
   ]
  },
  {
   "cell_type": "code",
   "execution_count": null,
   "id": "3dd48f82",
   "metadata": {},
   "outputs": [],
   "source": []
  },
  {
   "cell_type": "markdown",
   "id": "2e29960a",
   "metadata": {},
   "source": [
    "## Appying logistic regression to the data to make predictions"
   ]
  },
  {
   "cell_type": "code",
   "execution_count": 33,
   "id": "4327eec1",
   "metadata": {},
   "outputs": [
    {
     "name": "stdout",
     "output_type": "stream",
     "text": [
      "X_train (35463, 16)\n",
      "y_train (35463, 1)\n",
      "X_test (15199, 16)\n",
      "y_test (15199, 1)\n"
     ]
    }
   ],
   "source": [
    "## split data into trian test data\n",
    "X_train, X_test, y_train, y_test = train_test_split(X,y, test_size=0.3, random_state=0)\n",
    "print('X_train', X_train.shape)\n",
    "print('y_train', y_train.shape)\n",
    "print('X_test', X_test.shape)\n",
    "print('y_test', y_test.shape)"
   ]
  },
  {
   "cell_type": "code",
   "execution_count": 35,
   "id": "e819fa60",
   "metadata": {},
   "outputs": [],
   "source": [
    "## fit the trian data \n",
    "## perform prediction\n",
    "logistic_regression = LogisticRegression() # creating a logisticRegression object\n",
    "logistic_regression.fit(X_train,y_train)   # fitting the data\n",
    "y_pred = logistic_regression.predict(X_test)  # make predictions with the test data"
   ]
  },
  {
   "cell_type": "markdown",
   "id": "255d5f1f",
   "metadata": {},
   "source": [
    "### Evaluation with confusion matrix"
   ]
  },
  {
   "cell_type": "code",
   "execution_count": 37,
   "id": "47f9ead3",
   "metadata": {},
   "outputs": [
    {
     "data": {
      "text/plain": [
       "array([[12011,   199],\n",
       "       [ 2504,   485]], dtype=int64)"
      ]
     },
     "execution_count": 37,
     "metadata": {},
     "output_type": "execute_result"
    }
   ],
   "source": [
    "conf_mat = metrics.confusion_matrix(y_test, y_pred)\n",
    "conf_mat"
   ]
  },
  {
   "cell_type": "code",
   "execution_count": 38,
   "id": "7fa56ea5",
   "metadata": {},
   "outputs": [
    {
     "data": {
      "text/plain": [
       "Text(0.5, 427.9555555555555, 'Predicted label')"
      ]
     },
     "execution_count": 38,
     "metadata": {},
     "output_type": "execute_result"
    },
    {
     "data": {
      "image/png": "[encoded data removed]",
      "text/plain": [
       "<Figure size 640x480 with 2 Axes>"
      ]
     },
     "metadata": {},
     "output_type": "display_data"
    }
   ],
   "source": [
    "## visualize the confusion matrix\n",
    "class_names=[0,1] # name  of classes\n",
    "fig, ax = plt.subplots()\n",
    "tick_marks = np.arange(len(class_names))\n",
    "plt.xticks(tick_marks, class_names)\n",
    "plt.yticks(tick_marks, class_names)\n",
    "\n",
    "# creating heatmap\n",
    "sns.heatmap(pd.DataFrame(conf_mat), annot=True, cmap='YlGnBu', fmt='g')\n",
    "ax.xaxis.set_label_position(\"top\")\n",
    "plt.tight_layout()\n",
    "plt.title(\"Confusion matrix\", y=1.1)\n",
    "plt.ylabel(\"Actual label\")\n",
    "plt.xlabel(\"Predicted label\")"
   ]
  },
  {
   "cell_type": "code",
   "execution_count": 39,
   "id": "2561d9e9",
   "metadata": {},
   "outputs": [
    {
     "name": "stdout",
     "output_type": "stream",
     "text": [
      "Accuracy 0.8221593525889861\n",
      "Precision 0.7090643274853801\n",
      "Recall 0.16226162596186017\n"
     ]
    }
   ],
   "source": [
    "## accuracy , precison and recall score report\n",
    "print(\"Accuracy\", metrics.accuracy_score(y_test, y_pred))\n",
    "print(\"Precision\", metrics.precision_score(y_test, y_pred))\n",
    "print(\"Recall\", metrics.recall_score(y_test, y_pred))"
   ]
  },
  {
   "cell_type": "code",
   "execution_count": 41,
   "id": "8b920ddf",
   "metadata": {},
   "outputs": [
    {
     "data": {
      "image/png": "[encoded data removed]",
      "text/plain": [
       "<Figure size 640x480 with 1 Axes>"
      ]
     },
     "metadata": {},
     "output_type": "display_data"
    }
   ],
   "source": [
    "## ploting ROC curve\n",
    "prob_y_pred = logistic_regression.predict_proba(X_test)[::,1]\n",
    "fpr, tpr, _ = metrics.roc_curve(y_test, prob_y_pred)  ## why the underscore?\n",
    "auc = metrics.roc_auc_score(y_test, prob_y_pred)\n",
    "plt.plot(fpr, tpr, label='the auc is ' + str(auc))\n",
    "plt.legend(loc=4)\n",
    "plt.show()"
   ]
  },
  {
   "cell_type": "markdown",
   "id": "0af47129",
   "metadata": {},
   "source": [
    "## Applying Random forest classifier to the data to make predictions"
   ]
  },
  {
   "cell_type": "code",
   "execution_count": 43,
   "id": "ecfcd4a8",
   "metadata": {},
   "outputs": [
    {
     "data": {
      "text/plain": [
       "RandomForestClassifier(criterion='entropy', n_estimators=6, random_state=0)"
      ]
     },
     "execution_count": 43,
     "metadata": {},
     "output_type": "execute_result"
    }
   ],
   "source": [
    "## create rf model object\n",
    "## fit the model\n",
    "rf_classifier = RandomForestClassifier(n_estimators=6, criterion='entropy', random_state=0) \n",
    "rf_classifier.fit(X_train, y_train)"
   ]
  },
  {
   "cell_type": "code",
   "execution_count": 44,
   "id": "bfb8d700",
   "metadata": {},
   "outputs": [
    {
     "data": {
      "text/plain": [
       "array([0, 0, 1, ..., 0, 0, 0], dtype=int64)"
      ]
     },
     "execution_count": 44,
     "metadata": {},
     "output_type": "execute_result"
    }
   ],
   "source": [
    "## make predictions with X_test\n",
    "y_pred_rf = rf_classifier.predict(X_test)\n",
    "y_pred_rf "
   ]
  },
  {
   "cell_type": "markdown",
   "id": "300505f8",
   "metadata": {},
   "source": [
    "## Evaluation with confusion matrix"
   ]
  },
  {
   "cell_type": "code",
   "execution_count": 48,
   "id": "68bc80d6",
   "metadata": {},
   "outputs": [
    {
     "name": "stdout",
     "output_type": "stream",
     "text": [
      "[[11840   370]\n",
      " [ 1697  1292]]\n"
     ]
    }
   ],
   "source": [
    "conf_mat_rf = confusion_matrix(y_test, y_pred_rf)\n",
    "print(conf_mat_rf)"
   ]
  },
  {
   "cell_type": "code",
   "execution_count": 49,
   "id": "d7d98bed",
   "metadata": {},
   "outputs": [
    {
     "data": {
      "text/plain": [
       "Text(0.5, 427.9555555555555, 'Predicted label')"
      ]
     },
     "execution_count": 49,
     "metadata": {},
     "output_type": "execute_result"
    },
    {
     "data": {
      "image/png": "[encoded data removed]",
      "text/plain": [
       "<Figure size 640x480 with 2 Axes>"
      ]
     },
     "metadata": {},
     "output_type": "display_data"
    }
   ],
   "source": [
    "## visualizing the confusion matrix\n",
    "## visualize the confusion matrix\n",
    "class_names=[0,1] # name  of classes\n",
    "fig, ax = plt.subplots()\n",
    "tick_marks = np.arange(len(class_names))\n",
    "plt.xticks(tick_marks, class_names)\n",
    "plt.yticks(tick_marks, class_names)\n",
    "\n",
    "# creating heatmap\n",
    "sns.heatmap(pd.DataFrame(conf_mat_rf), annot=True, cmap='YlGnBu', fmt='g')\n",
    "ax.xaxis.set_label_position(\"top\")\n",
    "plt.tight_layout()\n",
    "plt.title(\"Confusion matrix\", y=1.1)\n",
    "plt.ylabel(\"Actual label\")\n",
    "plt.xlabel(\"Predicted label\")"
   ]
  },
  {
   "cell_type": "code",
   "execution_count": 50,
   "id": "ef1a4194",
   "metadata": {},
   "outputs": [
    {
     "data": {
      "text/plain": [
       "0.8640042108033423"
      ]
     },
     "execution_count": 50,
     "metadata": {},
     "output_type": "execute_result"
    }
   ],
   "source": [
    "## checking accuracy score\n",
    "accuracy_score(y_test, y_pred_rf)"
   ]
  },
  {
   "cell_type": "code",
   "execution_count": 51,
   "id": "b1485c51",
   "metadata": {},
   "outputs": [
    {
     "name": "stdout",
     "output_type": "stream",
     "text": [
      "              precision    recall  f1-score   support\n",
      "\n",
      "           0       0.87      0.97      0.92     12210\n",
      "           1       0.78      0.43      0.56      2989\n",
      "\n",
      "    accuracy                           0.86     15199\n",
      "   macro avg       0.83      0.70      0.74     15199\n",
      "weighted avg       0.86      0.86      0.85     15199\n",
      "\n"
     ]
    }
   ],
   "source": [
    "## checking precision recall, and accuracy\n",
    "print(classification_report(y_test, y_pred_rf))"
   ]
  },
  {
   "cell_type": "code",
   "execution_count": 55,
   "id": "62d8e3f3",
   "metadata": {},
   "outputs": [
    {
     "ename": "TypeError",
     "evalue": "predict_proba() missing 1 required positional argument: 'X'",
     "output_type": "error",
     "traceback": [
      "\u001b[1;31m---------------------------------------------------------------------------\u001b[0m",
      "\u001b[1;31mTypeError\u001b[0m                                 Traceback (most recent call last)",
      "\u001b[1;32m~\\AppData\\Local\\Temp\\ipykernel_7712\\175045653.py\u001b[0m in \u001b[0;36m<module>\u001b[1;34m\u001b[0m\n\u001b[0;32m      1\u001b[0m \u001b[1;31m## ploting ROC curve\u001b[0m\u001b[1;33m\u001b[0m\u001b[1;33m\u001b[0m\u001b[0m\n\u001b[0;32m      2\u001b[0m \u001b[1;31m## ploting ROC curve\u001b[0m\u001b[1;33m\u001b[0m\u001b[1;33m\u001b[0m\u001b[0m\n\u001b[1;32m----> 3\u001b[1;33m \u001b[0mprob_y_pred\u001b[0m \u001b[1;33m=\u001b[0m \u001b[0mRandomForestClassifier\u001b[0m\u001b[1;33m.\u001b[0m\u001b[0mpredict_proba\u001b[0m\u001b[1;33m(\u001b[0m\u001b[0mX_test\u001b[0m\u001b[1;33m)\u001b[0m  \u001b[1;31m## why the ::\u001b[0m\u001b[1;33m\u001b[0m\u001b[1;33m\u001b[0m\u001b[0m\n\u001b[0m\u001b[0;32m      4\u001b[0m \u001b[0mfpr\u001b[0m\u001b[1;33m,\u001b[0m \u001b[0mtpr\u001b[0m\u001b[1;33m,\u001b[0m \u001b[0m_\u001b[0m \u001b[1;33m=\u001b[0m \u001b[0mmetrics\u001b[0m\u001b[1;33m.\u001b[0m\u001b[0mroc_curve\u001b[0m\u001b[1;33m(\u001b[0m\u001b[0my_test\u001b[0m\u001b[1;33m,\u001b[0m \u001b[0mprob_y_pred\u001b[0m\u001b[1;33m)\u001b[0m  \u001b[1;31m## why the underscore?\u001b[0m\u001b[1;33m\u001b[0m\u001b[1;33m\u001b[0m\u001b[0m\n\u001b[0;32m      5\u001b[0m \u001b[0mauc\u001b[0m \u001b[1;33m=\u001b[0m \u001b[0mmetrics\u001b[0m\u001b[1;33m.\u001b[0m\u001b[0mroc_auc_score\u001b[0m\u001b[1;33m(\u001b[0m\u001b[0my_test\u001b[0m\u001b[1;33m,\u001b[0m \u001b[0mprob_y_pred\u001b[0m\u001b[1;33m)\u001b[0m\u001b[1;33m\u001b[0m\u001b[1;33m\u001b[0m\u001b[0m\n",
      "\u001b[1;31mTypeError\u001b[0m: predict_proba() missing 1 required positional argument: 'X'"
     ]
    }
   ],
   "source": [
    "## ploting ROC curve\n",
    "## ploting ROC curve\n",
    "prob_y_pred = RandomForestClassifier.predict_proba(X_test)  ## why the ::\n",
    "fpr, tpr, _ = metrics.roc_curve(y_test, prob_y_pred)  ## why the underscore?\n",
    "auc = metrics.roc_auc_score(y_test, prob_y_pred)\n",
    "plt.plot(fpr, tpr, label='the auc is ' + str(auc))\n",
    "plt.legend(loc=4)\n",
    "plt.show()"
   ]
  },
  {
   "cell_type": "code",
   "execution_count": null,
   "id": "a4b740a2",
   "metadata": {},
   "outputs": [],
   "source": []
  }
 ],
 "metadata": {
  "kernelspec": {
   "display_name": "Python 3",
   "language": "python",
   "name": "python3"
  },
  "language_info": {
   "codemirror_mode": {
    "name": "ipython",
    "version": 3
   },
   "file_extension": ".py",
   "mimetype": "text/x-python",
   "name": "python",
   "nbconvert_exporter": "python",
   "pygments_lexer": "ipython3",
   "version": "3.9.13"
  }
 },
 "nbformat": 4,
 "nbformat_minor": 5
}
